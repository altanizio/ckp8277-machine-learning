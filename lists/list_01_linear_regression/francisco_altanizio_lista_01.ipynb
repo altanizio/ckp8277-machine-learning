{
 "cells": [
  {
   "cell_type": "markdown",
   "id": "462605e6",
   "metadata": {},
   "source": [
    "# Questão 1\n",
    "\n",
    "Considere o conjunto de dados disponível em artificial1d.csv organizado em duas colunas, x e y. Seja um modelo de regressão linear para ˆy = f(x)."
   ]
  },
  {
   "cell_type": "code",
   "execution_count": 1,
   "id": "704fe10b",
   "metadata": {},
   "outputs": [],
   "source": [
    "import numpy as np\n",
    "import matplotlib.pyplot as plt\n",
    "import seaborn as sns\n",
    "from time import time\n",
    "from scipy.stats import shapiro"
   ]
  },
  {
   "cell_type": "code",
   "execution_count": 2,
   "id": "460d3db9",
   "metadata": {},
   "outputs": [],
   "source": [
    "artificial1d = np.loadtxt(\"artificial1d.csv\", delimiter=',')"
   ]
  },
  {
   "cell_type": "code",
   "execution_count": 3,
   "id": "d2151c5d",
   "metadata": {},
   "outputs": [
    {
     "data": {
      "text/plain": [
       "(30, 2)"
      ]
     },
     "execution_count": 3,
     "metadata": {},
     "output_type": "execute_result"
    }
   ],
   "source": [
    "artificial1d.shape"
   ]
  },
  {
   "cell_type": "code",
   "execution_count": 4,
   "id": "f5c59966",
   "metadata": {},
   "outputs": [],
   "source": [
    "# Fiz uma classe para a regressão linear para essa primeira questão - todos os itens vão usar ela\n",
    "class RegressaoLinear():\n",
    "    \"\"\"\n",
    "     Implementa um modelo de Regressão Linear.\n",
    "    \"\"\"\n",
    "    def __init__(self, y, X):\n",
    "        \"\"\"\n",
    "        Inicializa a Regressão Linear com os dados de entrada e saída.\n",
    "        \"\"\"\n",
    "        self.N = X.shape[0] # Número de observações\n",
    "        self.VarN = X.shape[1] # Número de variáveis\n",
    "        self.X = X\n",
    "        self.y = y\n",
    "        self.y_hat = None\n",
    "        self.residuos = None # erro\n",
    "        self.mse = None\n",
    "        self.w = None\n",
    "        self.historico_custo = [] # histórico do custo (MSE)\n",
    "        self.historico_w = []\n",
    "\n",
    "    def fit_gd(self, alpha=0.01, max_epocas=500, tolerancia=1e-8):\n",
    "        \"\"\"\n",
    "        Fit usando o algoritmo Gradiente Descendente.\n",
    "        \"\"\"\n",
    "        start_time = time() # só para calcular o tempo que demorou para executar\n",
    "        epoca = 0\n",
    "        self.w = np.zeros((self.VarN,1)) # inicializa os pesos com zero | Reseta o treinamento\n",
    "        self.historico_custo = []\n",
    "        self.historico_w = []\n",
    "        \n",
    "        while epoca < max_epocas:\n",
    "            epoca += 1\n",
    "            self.y_hat = self.X @ self.w\n",
    "            self.residuos = self.y - self.y_hat # erro\n",
    "            self.mse = 1 / (2 * self.N) * np.sum(self.residuos**2)\n",
    "            self.w = self.w + alpha * (1 / self.N) * (self.X.T @ self.residuos)\n",
    "\n",
    "            self.historico_custo.append((epoca, self.mse))\n",
    "            self.historico_w.append((epoca, self.w))\n",
    "\n",
    "            if epoca > 1 and abs(self.historico_custo[-2][1] - self.mse) < tolerancia: # Verifica se a variação do MSE é baixa\n",
    "                motivo = \"O erro não variou significativamente (convergência atingida)\"\n",
    "                break\n",
    "\n",
    "        if epoca >= max_epocas:\n",
    "            motivo = \"Número máximo de épocas atingido\"\n",
    "\n",
    "        self._print_resultados(motivo, epoca, start_time, tipo=\"gd\")\n",
    "\n",
    "    def fit_sgd(self, alpha=0.01, max_epocas=500, tolerancia=1e-8):\n",
    "        \"\"\"\n",
    "        Fit usando o algoritmo Gradiente Descendente Estocástico.\n",
    "        \"\"\"\n",
    "        start_time = time()  # só para calcular o tempo que demorou para executar\n",
    "        epoca = 0\n",
    "        flag_convergencia = True\n",
    "        self.w = np.zeros((self.VarN,1)) # inicializa os pesos com zero | Reseta o treinamento\n",
    "        self.historico_custo = []\n",
    "        self.historico_w = []\n",
    "        \n",
    "        while epoca < max_epocas and flag_convergencia: # Uma flag para verificar se a variação do MSE é baixa\n",
    "            indices = np.random.permutation(self.N)\n",
    "            X_permuted = self.X[indices]\n",
    "            y_permuted = self.y[indices]\n",
    "            for i in range(self.N):\n",
    "                epoca += 1\n",
    "                xi = X_permuted[i].reshape(1, -1) \n",
    "                yi = y_permuted[i]\n",
    "                y_hat_t_m1 = xi @ self.w\n",
    "                e_t_m1 = yi - y_hat_t_m1\n",
    "                self.w = self.w + alpha * e_t_m1 * xi.T\n",
    "\n",
    "                # Eu calculei e salvei o erro a cada observação\n",
    "                self.y_hat = self.X @ self.w\n",
    "                self.residuos = self.y - self.y_hat\n",
    "                self.mse = 1 / (2 * self.N) * np.sum(self.residuos**2)\n",
    "                self.historico_custo.append((epoca, self.mse))\n",
    "                self.historico_w.append((epoca, self.w))\n",
    "\n",
    "                if epoca > 1 and abs(self.historico_custo[-2][1] - self.mse) < tolerancia:\n",
    "                    motivo = \"O erro não variou significativamente (convergência atingida)\"\n",
    "                    flag_convergencia = False\n",
    "                    break\n",
    "      \n",
    "                if epoca == max_epocas:\n",
    "                    motivo = \"Número máximo de épocas atingido\"\n",
    "                    break\n",
    "\n",
    "        self._print_resultados(motivo, epoca, start_time, tipo=\"sgd\")\n",
    "\n",
    "    def fit_analitica(self):\n",
    "        \"\"\"\n",
    "        Fit usando o OLS.\n",
    "        \"\"\"\n",
    "        self.historico_custo = [] # Apagar o histórico caso tenha feito um sgd ou gd antes com o mesmo objeto.\n",
    "        self.historico_w = [] # Apagar o histórico caso tenha feito um sgd ou gd antes com o mesmo objeto.\n",
    "        \n",
    "        self.w = np.linalg.solve(self.X.T @ self.X, self.X.T @ self.y)\n",
    "        self.y_hat = self.X @ self.w\n",
    "        self.residuos = self.y - self.y_hat\n",
    "        self.mse = 1 / (2 * self.N) * np.sum(self.residuos**2)\n",
    "        \n",
    "        motivo = \"Solução analítica\"\n",
    "        \n",
    "        self._print_resultados(motivo, epoca = 0, start_time = 0, tipo=\"analitica\")\n",
    "\n",
    "    def _print_resultados(self, motivo, epoca, start_time, tipo):\n",
    "        \"\"\"\n",
    "        Faz um print dos resultados - depois do fit\n",
    "        \"\"\"\n",
    "        print(f\"\\nTreinamento {tipo} finalizado - Motivo: {motivo}\")\n",
    "        print(\n",
    "            \"Equação final: \"\n",
    "            + \"y = \"\n",
    "            + \" + \".join([f\"{x:.3f} * x{n}\" for n, x in enumerate(self.w.reshape(1,-1)[0])]).replace(\n",
    "                \" * x0\", \"\"\n",
    "            )\n",
    "        )\n",
    "        print(f\"Épocas realizadas: {epoca}\") if tipo != \"analitica\" else \"\"\n",
    "        print(f\"Erro final (MSE): {self.mse:.6f}\\n\")\n",
    "        end_time = time()\n",
    "        execution_time = end_time - start_time \n",
    "        print(f\"Tempo de execução: {execution_time:.4f} segundos\") if tipo != \"analitica\" else \"\"\n",
    "\n",
    "    def plot_custo(self):\n",
    "        \"\"\"\n",
    "        Plota o custo - histórico do MSE\n",
    "        \"\"\"\n",
    "        if not self.historico_custo:\n",
    "            print(\"Você usou o treinamento analítico\")\n",
    "        else:\n",
    "            ep, er = zip(*self.historico_custo)\n",
    "            plt.figure(figsize=(10, 5))\n",
    "            plt.plot(ep, er, label=\"MSE\")\n",
    "            plt.xlabel(\"Épocas\")\n",
    "            plt.ylabel(\"MSE\")\n",
    "            plt.title(\"Custo\")\n",
    "            plt.grid(True)\n",
    "            plt.legend()\n",
    "            plt.tight_layout()\n",
    "            plt.show()\n",
    "    \n",
    "    \n",
    "    def plot_residuos(self):\n",
    "        \"\"\"\n",
    "        Plota o resíduos (erro), faz um teste estatístico de normalidade também.\n",
    "        \"\"\"\n",
    "        \n",
    "        statistic, p_value = shapiro(self.residuos)\n",
    "\n",
    "        fig, ax = plt.subplots(figsize=(8, 5))\n",
    "\n",
    "        sns.histplot(self.residuos, ax=ax, kde=True)\n",
    "\n",
    "        result_text = f\"Shapiro-Wilk Test\\nStatistic={statistic:.4f}\\np-value={p_value:.4f}\"\n",
    "        plt.figtext(0.75,0.75, result_text, fontsize=12, color=\"black\", ha=\"center\")\n",
    "\n",
    "        ax.set_title(\"Resíduos\")\n",
    "        ax.grid(False)\n",
    "\n",
    "        plt.show()\n",
    "            \n",
    "    def plot_regressao_linear_1X(self):\n",
    "        \"\"\"\n",
    "        Plota a regressão linear, somente quando X tem uma variável e o intercepto\n",
    "        \"\"\"\n",
    "        if self.VarN > 2:\n",
    "            print(\"X tem mais de uma variável\")\n",
    "        else:\n",
    "            x_plot = np.linspace(self.X.min(), self.X.max(), 100)\n",
    "            y_plot = self.w[0] + self.w[1] * x_plot\n",
    "\n",
    "            fig, ax = plt.subplots(figsize=(8, 5))\n",
    "\n",
    "            ax.scatter(x=self.X[:,1], y=self.y, label=\"Dados Reais\", color=\"red\")\n",
    "\n",
    "            ax.plot(x_plot, y_plot, label=\"Regressão Linear\", color=\"blue\")\n",
    "\n",
    "            ax.set_xlabel(\"x\")\n",
    "            ax.set_ylabel(\"y\")\n",
    "            ax.set_title(\"Gráfico da Regressão Linear\")\n",
    "            ax.grid(True)\n",
    "            ax.legend()\n",
    "\n",
    "            plt.show()"
   ]
  },
  {
   "cell_type": "markdown",
   "id": "5c327bd8",
   "metadata": {},
   "source": [
    "## a) Apresente os parâmetros do modelo e o MSE (erro quadrático médio) obtidos pelo algoritmo OLS (mínimos quadrados ordinários). Plote a reta resultante sobre os dados."
   ]
  },
  {
   "cell_type": "code",
   "execution_count": 5,
   "id": "a57a7b36",
   "metadata": {},
   "outputs": [],
   "source": [
    "X = artificial1d[:,0]\n",
    "y = artificial1d[:,1]"
   ]
  },
  {
   "cell_type": "code",
   "execution_count": 6,
   "id": "5892044d",
   "metadata": {},
   "outputs": [
    {
     "data": {
      "text/plain": [
       "array([-1.        , -0.93103448, -0.86206897, -0.79310345, -0.72413793,\n",
       "       -0.65517241, -0.5862069 , -0.51724138, -0.44827586, -0.37931034,\n",
       "       -0.31034483, -0.24137931, -0.17241379, -0.10344828, -0.03448276,\n",
       "        0.03448276,  0.10344828,  0.17241379,  0.24137931,  0.31034483,\n",
       "        0.37931034,  0.44827586,  0.51724138,  0.5862069 ,  0.65517241,\n",
       "        0.72413793,  0.79310345,  0.86206897,  0.93103448,  1.        ])"
      ]
     },
     "execution_count": 6,
     "metadata": {},
     "output_type": "execute_result"
    }
   ],
   "source": [
    "X"
   ]
  },
  {
   "cell_type": "code",
   "execution_count": 7,
   "id": "336e55e5",
   "metadata": {},
   "outputs": [],
   "source": [
    "ones_vetor = np.ones(X.shape)"
   ]
  },
  {
   "cell_type": "code",
   "execution_count": 8,
   "id": "f11fed01",
   "metadata": {},
   "outputs": [],
   "source": [
    "X = X.reshape(-1,1)\n",
    "ones_vetor = ones_vetor.reshape(-1,1)"
   ]
  },
  {
   "cell_type": "code",
   "execution_count": 9,
   "id": "40ae7b8d",
   "metadata": {},
   "outputs": [],
   "source": [
    "X = np.concat([ones_vetor, X], axis=1)"
   ]
  },
  {
   "cell_type": "code",
   "execution_count": 10,
   "id": "fdc20c18",
   "metadata": {},
   "outputs": [
    {
     "data": {
      "text/plain": [
       "array([[ 1.        , -1.        ],\n",
       "       [ 1.        , -0.93103448],\n",
       "       [ 1.        , -0.86206897],\n",
       "       [ 1.        , -0.79310345],\n",
       "       [ 1.        , -0.72413793]])"
      ]
     },
     "execution_count": 10,
     "metadata": {},
     "output_type": "execute_result"
    }
   ],
   "source": [
    "X[:5,:]"
   ]
  },
  {
   "cell_type": "code",
   "execution_count": 11,
   "id": "45716488",
   "metadata": {},
   "outputs": [],
   "source": [
    "y = y.reshape(-1,1)"
   ]
  },
  {
   "cell_type": "code",
   "execution_count": 12,
   "id": "ab9da76e",
   "metadata": {},
   "outputs": [
    {
     "data": {
      "text/plain": [
       "array([[-2.08201726],\n",
       "       [-1.32698023],\n",
       "       [-1.10559772],\n",
       "       [-0.87394576],\n",
       "       [-0.28502695]])"
      ]
     },
     "execution_count": 12,
     "metadata": {},
     "output_type": "execute_result"
    }
   ],
   "source": [
    "y[:5,:]"
   ]
  },
  {
   "cell_type": "code",
   "execution_count": 13,
   "id": "ef39e206",
   "metadata": {},
   "outputs": [],
   "source": [
    "regressao_linear = RegressaoLinear(X=X,y=y) # Observação essa classe está definida nas células acima"
   ]
  },
  {
   "cell_type": "code",
   "execution_count": 14,
   "id": "0c014e28",
   "metadata": {},
   "outputs": [
    {
     "name": "stdout",
     "output_type": "stream",
     "text": [
      "\n",
      "Treinamento analitica finalizado - Motivo: Solução analítica\n",
      "Equação final: y = 0.068 + 1.575 * x1\n",
      "Erro final (MSE): 0.106700\n",
      "\n"
     ]
    }
   ],
   "source": [
    "regressao_linear.fit_analitica()"
   ]
  },
  {
   "cell_type": "code",
   "execution_count": 15,
   "id": "f523e7e8",
   "metadata": {},
   "outputs": [
    {
     "data": {
      "text/plain": [
       "array([[0.06761792],\n",
       "       [1.57486517]])"
      ]
     },
     "execution_count": 15,
     "metadata": {},
     "output_type": "execute_result"
    }
   ],
   "source": [
    "regressao_linear.w"
   ]
  },
  {
   "cell_type": "code",
   "execution_count": 16,
   "id": "e4fd8a49",
   "metadata": {},
   "outputs": [
    {
     "data": {
      "text/plain": [
       "np.float64(0.10670045066468496)"
      ]
     },
     "execution_count": 16,
     "metadata": {},
     "output_type": "execute_result"
    }
   ],
   "source": [
    "regressao_linear.mse # Observação usei o MSE dos slides que usa 1/2N"
   ]
  },
  {
   "cell_type": "code",
   "execution_count": 17,
   "id": "94d04a77",
   "metadata": {},
   "outputs": [
    {
     "data": {
      "image/png": "[encoded data removed]",
      "text/plain": [
       "<Figure size 800x500 with 1 Axes>"
      ]
     },
     "metadata": {},
     "output_type": "display_data"
    }
   ],
   "source": [
    "regressao_linear.plot_regressao_linear_1X()"
   ]
  },
  {
   "cell_type": "code",
   "execution_count": 18,
   "id": "5fe1d138",
   "metadata": {},
   "outputs": [
    {
     "data": {
      "image/png": "[encoded data removed]",
      "text/plain": [
       "<Figure size 800x500 with 1 Axes>"
      ]
     },
     "metadata": {},
     "output_type": "display_data"
    }
   ],
   "source": [
    "regressao_linear.plot_residuos()"
   ]
  },
  {
   "cell_type": "markdown",
   "id": "07eeca3f",
   "metadata": {},
   "source": [
    "## b) Apresente os parâmetros do modelo, o MSE e a curva de aprendizagem obtidos pelo algoritmo GD (gradiente descendente). Plote a reta resultante sobre os dados."
   ]
  },
  {
   "cell_type": "code",
   "execution_count": 19,
   "id": "f4ce4387",
   "metadata": {},
   "outputs": [],
   "source": [
    "regressao_linear = RegressaoLinear(X=X,y=y) # Observação: essa classe está definida nas primeiras células"
   ]
  },
  {
   "cell_type": "code",
   "execution_count": 20,
   "id": "54907073",
   "metadata": {},
   "outputs": [
    {
     "name": "stdout",
     "output_type": "stream",
     "text": [
      "\n",
      "Treinamento gd finalizado - Motivo: Número máximo de épocas atingido\n",
      "Equação final: y = 0.068 + 1.531 * x1\n",
      "Épocas realizadas: 500\n",
      "Erro final (MSE): 0.107052\n",
      "\n",
      "Tempo de execução: 0.0080 segundos\n"
     ]
    }
   ],
   "source": [
    "regressao_linear.fit_gd(max_epocas=500, alpha=0.02)"
   ]
  },
  {
   "cell_type": "code",
   "execution_count": 21,
   "id": "4c11d2c5",
   "metadata": {},
   "outputs": [
    {
     "data": {
      "text/plain": [
       "array([[0.06761515],\n",
       "       [1.53078767]])"
      ]
     },
     "execution_count": 21,
     "metadata": {},
     "output_type": "execute_result"
    }
   ],
   "source": [
    "regressao_linear.w"
   ]
  },
  {
   "cell_type": "code",
   "execution_count": 22,
   "id": "23365dcb",
   "metadata": {},
   "outputs": [
    {
     "data": {
      "text/plain": [
       "np.float64(0.1070515729584837)"
      ]
     },
     "execution_count": 22,
     "metadata": {},
     "output_type": "execute_result"
    }
   ],
   "source": [
    "regressao_linear.mse # Observação usei o MSE dos slides que usa 1/2N"
   ]
  },
  {
   "cell_type": "code",
   "execution_count": 23,
   "id": "48846b88",
   "metadata": {},
   "outputs": [
    {
     "data": {
      "image/png": "[encoded data removed]",
      "text/plain": [
       "<Figure size 1000x500 with 1 Axes>"
      ]
     },
     "metadata": {},
     "output_type": "display_data"
    }
   ],
   "source": [
    "regressao_linear.plot_custo()"
   ]
  },
  {
   "cell_type": "code",
   "execution_count": 24,
   "id": "704e8e8d",
   "metadata": {},
   "outputs": [
    {
     "data": {
      "image/png": "[encoded data removed]",
      "text/plain": [
       "<Figure size 800x500 with 1 Axes>"
      ]
     },
     "metadata": {},
     "output_type": "display_data"
    }
   ],
   "source": [
    "regressao_linear.plot_regressao_linear_1X()"
   ]
  },
  {
   "cell_type": "markdown",
   "id": "3a379ff3",
   "metadata": {},
   "source": [
    "## c) Apresente os parâmetros do modelo, o MSE e a curva de aprendizagem obtidos pelo algoritmo SGD (gradiente descendente estocástico). Plote a reta resultante sobre os dados."
   ]
  },
  {
   "cell_type": "code",
   "execution_count": 25,
   "id": "e2062658",
   "metadata": {},
   "outputs": [],
   "source": [
    "regressao_linear = RegressaoLinear(X=X,y=y) # Observação: essa classe está definida nas primeiras células"
   ]
  },
  {
   "cell_type": "code",
   "execution_count": 26,
   "id": "0250cc61",
   "metadata": {},
   "outputs": [
    {
     "name": "stdout",
     "output_type": "stream",
     "text": [
      "\n",
      "Treinamento sgd finalizado - Motivo: Número máximo de épocas atingido\n",
      "Equação final: y = 0.074 + 1.546 * x1\n",
      "Épocas realizadas: 1000\n",
      "Erro final (MSE): 0.106869\n",
      "\n",
      "Tempo de execução: 0.0150 segundos\n"
     ]
    }
   ],
   "source": [
    "regressao_linear.fit_sgd(max_epocas=1000, alpha=0.01)"
   ]
  },
  {
   "cell_type": "code",
   "execution_count": 27,
   "id": "ecf2f469",
   "metadata": {},
   "outputs": [
    {
     "data": {
      "text/plain": [
       "array([[0.07362531],\n",
       "       [1.54578191]])"
      ]
     },
     "execution_count": 27,
     "metadata": {},
     "output_type": "execute_result"
    }
   ],
   "source": [
    "regressao_linear.w"
   ]
  },
  {
   "cell_type": "code",
   "execution_count": 28,
   "id": "e832aab7",
   "metadata": {},
   "outputs": [
    {
     "data": {
      "text/plain": [
       "np.float64(0.10686918991319318)"
      ]
     },
     "execution_count": 28,
     "metadata": {},
     "output_type": "execute_result"
    }
   ],
   "source": [
    "regressao_linear.mse # Observação usei o MSE dos slides que usa 1/2N"
   ]
  },
  {
   "cell_type": "code",
   "execution_count": 29,
   "id": "559be6e2",
   "metadata": {},
   "outputs": [
    {
     "data": {
      "image/png": "[encoded data removed]",
      "text/plain": [
       "<Figure size 1000x500 with 1 Axes>"
      ]
     },
     "metadata": {},
     "output_type": "display_data"
    }
   ],
   "source": [
    "regressao_linear.plot_custo()"
   ]
  },
  {
   "cell_type": "code",
   "execution_count": 30,
   "id": "2b6497b7",
   "metadata": {},
   "outputs": [
    {
     "data": {
      "image/png": "[encoded data removed]",
      "text/plain": [
       "<Figure size 800x500 with 1 Axes>"
      ]
     },
     "metadata": {},
     "output_type": "display_data"
    }
   ],
   "source": [
    "regressao_linear.plot_regressao_linear_1X()"
   ]
  },
  {
   "cell_type": "markdown",
   "id": "847a99e0",
   "metadata": {},
   "source": [
    "# Questão 2\n",
    "Considere o conjunto de dados disponível em california.csv, organizado em 9\n",
    "colunas, sendo as 8 primeiras colunas os atributos e a última coluna a saída.\n",
    "Os 8 atributos são usados na predição da mediana de preços de casas em distritos\n",
    "da Califórnia na década de 1990. Maiores detalhes sobre os dados podem\n",
    "ser conferidos em https://scikit-learn.org/stable/datasets/real_\n",
    "world.html#california-housing-dataset."
   ]
  },
  {
   "cell_type": "code",
   "execution_count": 31,
   "id": "5575f230",
   "metadata": {},
   "outputs": [],
   "source": [
    "california = np.loadtxt(\"california.csv\", delimiter=',')"
   ]
  },
  {
   "cell_type": "code",
   "execution_count": 32,
   "id": "d028e7ee",
   "metadata": {},
   "outputs": [
    {
     "data": {
      "text/plain": [
       "array([[ 4.16850000e+00,  2.00000000e+01,  6.70063694e+00,\n",
       "         1.17834395e+00,  7.45000000e+02,  2.37261146e+00,\n",
       "         3.88000000e+01, -1.21150000e+02,  2.17500000e+00],\n",
       "       [ 2.81940000e+00,  2.40000000e+01,  4.76250000e+00,\n",
       "         1.02083333e+00,  6.08000000e+02,  2.53333333e+00,\n",
       "         3.67500000e+01, -1.19850000e+02,  8.11000000e-01],\n",
       "       [ 2.42500000e+00,  4.60000000e+01,  4.92771084e+00,\n",
       "         1.01807229e+00,  7.72000000e+02,  2.32530120e+00,\n",
       "         3.63300000e+01, -1.19310000e+02,  8.49000000e-01],\n",
       "       [ 3.12050000e+00,  1.60000000e+01,  3.72847682e+00,\n",
       "         1.10154525e+00,  1.26000000e+03,  2.78145695e+00,\n",
       "         3.38700000e+01, -1.17990000e+02,  1.74000000e+00],\n",
       "       [ 4.38890000e+00,  4.10000000e+01,  5.74100719e+00,\n",
       "         1.19904077e+00,  8.37000000e+02,  2.00719424e+00,\n",
       "         3.41500000e+01, -1.18400000e+02,  3.80400000e+00]])"
      ]
     },
     "execution_count": 32,
     "metadata": {},
     "output_type": "execute_result"
    }
   ],
   "source": [
    "california[:5,:]"
   ]
  },
  {
   "cell_type": "code",
   "execution_count": 33,
   "id": "b0044554",
   "metadata": {},
   "outputs": [
    {
     "data": {
      "text/plain": [
       "(1000, 9)"
      ]
     },
     "execution_count": 33,
     "metadata": {},
     "output_type": "execute_result"
    }
   ],
   "source": [
    "california.shape"
   ]
  },
  {
   "cell_type": "markdown",
   "id": "d0b530fa",
   "metadata": {},
   "source": [
    "## a) Aleatoriamente, divida o conjunto de dados em treino (80%) e teste (20%)."
   ]
  },
  {
   "cell_type": "code",
   "execution_count": 34,
   "id": "a31e5693",
   "metadata": {},
   "outputs": [],
   "source": [
    "size_data = california.shape[0]"
   ]
  },
  {
   "cell_type": "code",
   "execution_count": 35,
   "id": "34c79029",
   "metadata": {},
   "outputs": [],
   "source": [
    "tamanho_treino = int(0.8 * size_data)"
   ]
  },
  {
   "cell_type": "code",
   "execution_count": 36,
   "id": "334525b4",
   "metadata": {},
   "outputs": [
    {
     "data": {
      "text/plain": [
       "800"
      ]
     },
     "execution_count": 36,
     "metadata": {},
     "output_type": "execute_result"
    }
   ],
   "source": [
    "tamanho_treino"
   ]
  },
  {
   "cell_type": "code",
   "execution_count": 37,
   "id": "a00f0568",
   "metadata": {},
   "outputs": [],
   "source": [
    "random_seed = np.random.default_rng(seed=1) \n",
    "id_random = random_seed.permutation(size_data)"
   ]
  },
  {
   "cell_type": "code",
   "execution_count": 38,
   "id": "108c1edc",
   "metadata": {},
   "outputs": [],
   "source": [
    "id_treino = id_random[:tamanho_treino]\n",
    "id_teste = id_random[tamanho_treino:]"
   ]
  },
  {
   "cell_type": "code",
   "execution_count": 39,
   "id": "722ea47a",
   "metadata": {},
   "outputs": [],
   "source": [
    "treino = california[id_treino,:]"
   ]
  },
  {
   "cell_type": "code",
   "execution_count": 40,
   "id": "0a2c3f8d",
   "metadata": {},
   "outputs": [],
   "source": [
    "teste = california[id_teste,:]"
   ]
  },
  {
   "cell_type": "markdown",
   "id": "78f3331d",
   "metadata": {},
   "source": [
    "## b) Treine 13 modelos de regressão polinomial, com ordens de 1 a 13. Você pode usar o algoritmo OLS."
   ]
  },
  {
   "cell_type": "code",
   "execution_count": 41,
   "id": "4010a6f6",
   "metadata": {},
   "outputs": [],
   "source": [
    "def ols(X, y):\n",
    "    \"\"\"\n",
    "    Fit um OLS - fiz com que o intercepto fosse inserido nesta função\n",
    "    \"\"\"\n",
    "    ones_vetor = np.ones(X.shape[0])\n",
    "    ones_vetor = ones_vetor.reshape(-1, 1)\n",
    "    X = np.concatenate([ones_vetor, X], axis=1)\n",
    "    w = np.linalg.solve(X.T @ X, X.T @ y)\n",
    "    return w\n",
    "\n",
    "\n",
    "def predict(X, w):\n",
    "    \"\"\"\n",
    "    Prever os valores a partir de X e w - fiz com que o intercepto fosse inserido nesta função\n",
    "    \"\"\"\n",
    "    ones_vetor = np.ones(X.shape[0])\n",
    "    ones_vetor = ones_vetor.reshape(-1, 1)\n",
    "    X = np.concatenate([ones_vetor, X], axis=1)\n",
    "    y_hat = X @ w\n",
    "    return y_hat\n",
    "\n",
    "\n",
    "def rmse(y, y_hat):\n",
    "    \"\"\"\n",
    "    Calcula o RMSE\n",
    "    \"\"\"\n",
    "    return np.sqrt((((y - y_hat) ** 2) / y.shape[0]).sum())"
   ]
  },
  {
   "cell_type": "code",
   "execution_count": 42,
   "id": "78a8df10",
   "metadata": {},
   "outputs": [],
   "source": [
    "class StandardScaler:\n",
    "    \"\"\"\n",
    "    Classe para padronizar usando z-score\n",
    "    \"\"\"\n",
    "\n",
    "    def __init__(self):\n",
    "        self.mean = None\n",
    "        self.std = None\n",
    "\n",
    "    def fit(self, X):\n",
    "        self.mean = np.mean(X, axis=0)\n",
    "        self.std = np.std(X, ddof=1, axis=0)\n",
    "\n",
    "    def fit_transform(self, X):\n",
    "        self.fit(X)\n",
    "        return (X - self.mean) / self.std\n",
    "\n",
    "    def transform(self, X):\n",
    "        return (X - self.mean) / self.std\n",
    "\n",
    "    def inverse(self,X):\n",
    "        return X * self.std + self.mean"
   ]
  },
  {
   "cell_type": "code",
   "execution_count": 43,
   "id": "c67b6446",
   "metadata": {},
   "outputs": [],
   "source": [
    "class MinMax:\n",
    "    \"\"\"\n",
    "    Classe para padronizar usando min-max\n",
    "    \"\"\"\n",
    "\n",
    "    def __init__(self):\n",
    "        self.max = None\n",
    "        self.min = None\n",
    "\n",
    "    def fit(self, X):\n",
    "        self.min_val = np.min(X, axis=0)\n",
    "        self.max_val = np.max(X, axis=0)\n",
    "\n",
    "    def fit_transform(self, X):\n",
    "        self.fit(X)\n",
    "        return (X - self.min_val) / (self.max_val - self.min_val)\n",
    "\n",
    "    def transform(self, X):\n",
    "        return (X - self.min_val) / (self.max_val - self.min_val)\n",
    "\n",
    "    def inverse(self, X):\n",
    "        return X * (self.max_val - self.min_val) + self.min_val"
   ]
  },
  {
   "cell_type": "code",
   "execution_count": 44,
   "id": "b5e0c5c5",
   "metadata": {},
   "outputs": [],
   "source": [
    "X_treino = treino[:,0:8]\n",
    "y_treino = treino[:,8].reshape(-1,1)"
   ]
  },
  {
   "cell_type": "code",
   "execution_count": 45,
   "id": "2d9f0a70",
   "metadata": {},
   "outputs": [],
   "source": [
    "X_teste = teste[:,0:8]\n",
    "y_teste = teste[:,8].reshape(-1,1)"
   ]
  },
  {
   "cell_type": "code",
   "execution_count": 46,
   "id": "47ff279c",
   "metadata": {},
   "outputs": [],
   "source": [
    "X_min_max = MinMax()"
   ]
  },
  {
   "cell_type": "code",
   "execution_count": 47,
   "id": "ee30656d",
   "metadata": {},
   "outputs": [],
   "source": [
    "X_treino_max_min = X_min_max.fit_transform(X_treino)"
   ]
  },
  {
   "cell_type": "code",
   "execution_count": 48,
   "id": "8bf1ab8c",
   "metadata": {},
   "outputs": [],
   "source": [
    "# Criei uma única variável X com todas as potências (X, X², X³, ...).\n",
    "# O valor de 'Cuts' define até qual potência considerar:\n",
    "# - 8  -> apenas o X sem potências\n",
    "# - 16 -> inclui X e X²\n",
    "# - 24 -> inclui X, X² e X³\n",
    "# ...e assim por diante.\n",
    "\n",
    "X_treino_max_min_order = X_treino_max_min.copy()\n",
    "cuts = [X_treino_max_min_order.shape[1]]\n",
    "for pot in range(2,14):\n",
    "    X_treino_max_min_order_pot = X_treino_max_min ** pot\n",
    "    X_treino_max_min_order = np.concat([X_treino_max_min_order, X_treino_max_min_order_pot], axis=1)\n",
    "    cuts.append(X_treino_max_min_order.shape[1])"
   ]
  },
  {
   "cell_type": "code",
   "execution_count": 49,
   "id": "ded47e70",
   "metadata": {},
   "outputs": [
    {
     "data": {
      "text/plain": [
       "[8, 16, 24, 32, 40, 48, 56, 64, 72, 80, 88, 96, 104]"
      ]
     },
     "execution_count": 49,
     "metadata": {},
     "output_type": "execute_result"
    }
   ],
   "source": [
    "cuts"
   ]
  },
  {
   "cell_type": "code",
   "execution_count": 50,
   "id": "5cce7858",
   "metadata": {},
   "outputs": [],
   "source": [
    "X_min_max_order = MinMax()"
   ]
  },
  {
   "cell_type": "code",
   "execution_count": 51,
   "id": "783b85ad",
   "metadata": {},
   "outputs": [],
   "source": [
    "X_treino_max_min_order = X_min_max_order.fit_transform(X_treino_max_min_order)"
   ]
  },
  {
   "cell_type": "code",
   "execution_count": 52,
   "id": "197cb2ae",
   "metadata": {},
   "outputs": [
    {
     "data": {
      "text/plain": [
       "(800, 104)"
      ]
     },
     "execution_count": 52,
     "metadata": {},
     "output_type": "execute_result"
    }
   ],
   "source": [
    "X_treino_max_min_order.shape"
   ]
  },
  {
   "cell_type": "code",
   "execution_count": 53,
   "id": "75cccbf7",
   "metadata": {},
   "outputs": [],
   "source": [
    "y_standard = StandardScaler()"
   ]
  },
  {
   "cell_type": "code",
   "execution_count": 54,
   "id": "8e59e72b",
   "metadata": {},
   "outputs": [],
   "source": [
    "y_treino_standard = y_standard.fit_transform(y_treino)"
   ]
  },
  {
   "cell_type": "code",
   "execution_count": 55,
   "id": "539feb72",
   "metadata": {},
   "outputs": [],
   "source": [
    "# Vou treinar os modelos usando o valor de 'Cuts' como base.\n",
    "# Ele define até onde cada modelo deve usar as variáveis (potências de X).\n",
    "w_list = []\n",
    "max_min_order = []\n",
    "for cut in cuts:\n",
    "    X_treino_max_min_order_fit = X_treino_max_min_order[:,:cut] # modelo vai usar as variáveis até o valor de 'cut'\n",
    "    w = ols(X_treino_max_min_order_fit,y_treino_standard) # lembrando que a função ols insere o intercepto\n",
    "    w_list.append(w)"
   ]
  },
  {
   "cell_type": "code",
   "execution_count": 56,
   "id": "6e24d9d3",
   "metadata": {},
   "outputs": [
    {
     "data": {
      "text/plain": [
       "[array([[ 1.76152496],\n",
       "        [ 5.24845546],\n",
       "        [ 0.5834987 ],\n",
       "        [-2.16942708],\n",
       "        [ 2.99697372],\n",
       "        [ 0.21411871],\n",
       "        [-2.11412582],\n",
       "        [-3.4706265 ],\n",
       "        [-3.26461874]]),\n",
       " array([[ 1.54725898],\n",
       "        [ 7.18082258],\n",
       "        [ 0.82027962],\n",
       "        [-4.91212889],\n",
       "        [ 6.44115215],\n",
       "        [ 0.22890106],\n",
       "        [-4.59584345],\n",
       "        [-4.5670434 ],\n",
       "        [-2.12134638],\n",
       "        [-2.50755018],\n",
       "        [-0.12427101],\n",
       "        [ 7.46628564],\n",
       "        [-9.10593268],\n",
       "        [ 0.26623459],\n",
       "        [ 4.63299932],\n",
       "        [ 1.46425356],\n",
       "        [-1.1904806 ]]),\n",
       " array([[  1.51593163],\n",
       "        [  3.81114938],\n",
       "        [  2.02167455],\n",
       "        [-10.68170408],\n",
       "        [ 11.51370758],\n",
       "        [  0.93019129],\n",
       "        [ -6.99513282],\n",
       "        [ -3.2048381 ],\n",
       "        [  0.19292029],\n",
       "        [  8.15172686],\n",
       "        [ -2.56163337],\n",
       "        [ 36.74384526],\n",
       "        [-36.60158114],\n",
       "        [ -2.8542841 ],\n",
       "        [ 11.80493769],\n",
       "        [ -2.51062825],\n",
       "        [ -6.63224221],\n",
       "        [ -9.16496057],\n",
       "        [  1.43923537],\n",
       "        [-28.69790352],\n",
       "        [ 27.91284074],\n",
       "        [  2.59578198],\n",
       "        [ -5.50297693],\n",
       "        [  3.05169585],\n",
       "        [  3.69340483]]),\n",
       " array([[ 6.06225274e-01],\n",
       "        [ 2.75588762e+00],\n",
       "        [ 2.72451621e+00],\n",
       "        [-1.60304975e+01],\n",
       "        [ 2.36124141e+01],\n",
       "        [-3.80297987e-02],\n",
       "        [-3.84129397e-01],\n",
       "        [-4.02837374e-01],\n",
       "        [ 3.56779939e+00],\n",
       "        [ 1.22455518e+01],\n",
       "        [-5.98101233e+00],\n",
       "        [ 7.89492834e+01],\n",
       "        [-1.18019259e+02],\n",
       "        [ 2.83482658e+00],\n",
       "        [-2.63572978e+01],\n",
       "        [-1.58473675e+01],\n",
       "        [-2.12331456e+01],\n",
       "        [-1.65047222e+01],\n",
       "        [ 6.70842510e+00],\n",
       "        [-1.43022806e+02],\n",
       "        [ 2.13331746e+02],\n",
       "        [-1.02899099e+01],\n",
       "        [ 7.06249007e+01],\n",
       "        [ 2.54577755e+01],\n",
       "        [ 2.58599075e+01],\n",
       "        [ 4.30353075e+00],\n",
       "        [-2.57588990e+00],\n",
       "        [ 8.82610113e+01],\n",
       "        [-1.26861417e+02],\n",
       "        [ 8.06856748e+00],\n",
       "        [-4.46188861e+01],\n",
       "        [-1.22567295e+01],\n",
       "        [-1.09135431e+01]]),\n",
       " array([[-2.39802565e-01],\n",
       "        [ 5.31786809e+00],\n",
       "        [ 3.17892933e+00],\n",
       "        [-9.34727971e+00],\n",
       "        [ 3.05982731e+01],\n",
       "        [-6.57552334e+00],\n",
       "        [ 6.74131553e+00],\n",
       "        [ 1.57354865e+00],\n",
       "        [ 1.07348745e+01],\n",
       "        [-9.06042718e+00],\n",
       "        [-8.53078696e+00],\n",
       "        [ 1.34268219e+01],\n",
       "        [-1.69784019e+02],\n",
       "        [ 8.08098944e+01],\n",
       "        [-8.76520715e+01],\n",
       "        [-4.39420739e+01],\n",
       "        [-7.76130374e+01],\n",
       "        [ 4.75837238e+01],\n",
       "        [ 1.18936623e+01],\n",
       "        [ 1.38327971e+02],\n",
       "        [ 3.22857376e+02],\n",
       "        [-3.59958674e+02],\n",
       "        [ 2.81506919e+02],\n",
       "        [ 1.25976054e+02],\n",
       "        [ 1.86346867e+02],\n",
       "        [-7.64707510e+01],\n",
       "        [-7.24632965e+00],\n",
       "        [-3.95527764e+02],\n",
       "        [-1.73072879e+02],\n",
       "        [ 6.12545704e+02],\n",
       "        [-3.45997433e+02],\n",
       "        [-1.46801649e+02],\n",
       "        [-1.98898142e+02],\n",
       "        [ 3.54821528e+01],\n",
       "        [ 1.54136727e+00],\n",
       "        [ 2.80747371e+02],\n",
       "        [-3.73233679e+01],\n",
       "        [-3.26440147e+02],\n",
       "        [ 1.44965806e+02],\n",
       "        [ 6.09345483e+01],\n",
       "        [ 7.72085612e+01]]),\n",
       " array([[-4.06358463e-01],\n",
       "        [ 3.58825262e+00],\n",
       "        [ 1.38208365e+01],\n",
       "        [-1.09718682e+01],\n",
       "        [ 1.75745392e+01],\n",
       "        [-1.94144442e+01],\n",
       "        [ 2.03955489e+01],\n",
       "        [ 1.01768641e+01],\n",
       "        [ 7.61929029e+00],\n",
       "        [ 9.15679349e+00],\n",
       "        [-1.00183161e+02],\n",
       "        [ 2.26729192e+01],\n",
       "        [-6.19776134e+00],\n",
       "        [ 2.93062322e+02],\n",
       "        [-2.64686082e+02],\n",
       "        [-1.46507428e+02],\n",
       "        [-3.10258526e+01],\n",
       "        [-4.28364840e+01],\n",
       "        [ 3.46767599e+02],\n",
       "        [ 1.87103754e+02],\n",
       "        [-5.97090289e+02],\n",
       "        [-1.77192415e+03],\n",
       "        [ 1.23889434e+03],\n",
       "        [ 5.70662053e+02],\n",
       "        [-3.09923374e+01],\n",
       "        [ 1.23741435e+02],\n",
       "        [-5.98137944e+02],\n",
       "        [-7.37717393e+02],\n",
       "        [ 2.19516313e+03],\n",
       "        [ 4.80339644e+03],\n",
       "        [-2.76846101e+03],\n",
       "        [-1.02551781e+03],\n",
       "        [ 2.54386562e+02],\n",
       "        [-1.64680150e+02],\n",
       "        [ 4.99067399e+02],\n",
       "        [ 9.18583726e+02],\n",
       "        [-2.81581713e+03],\n",
       "        [-5.80759511e+03],\n",
       "        [ 2.94315596e+03],\n",
       "        [ 8.67942919e+02],\n",
       "        [-3.57119885e+02],\n",
       "        [ 7.37081148e+01],\n",
       "        [-1.60193821e+02],\n",
       "        [-3.79216608e+02],\n",
       "        [ 1.20650968e+03],\n",
       "        [ 2.50266455e+03],\n",
       "        [-1.16957249e+03],\n",
       "        [-2.79461129e+02],\n",
       "        [ 1.55185053e+02]]),\n",
       " array([[ 4.13661781e-01],\n",
       "        [-7.75899600e+00],\n",
       "        [ 2.67924133e+01],\n",
       "        [-1.83378959e+01],\n",
       "        [-1.29971458e+01],\n",
       "        [-2.91216611e+01],\n",
       "        [ 2.22942878e+01],\n",
       "        [ 9.18879871e+00],\n",
       "        [ 7.06418676e+00],\n",
       "        [ 1.58864249e+02],\n",
       "        [-2.60165690e+02],\n",
       "        [ 1.43260013e+02],\n",
       "        [ 5.54852509e+02],\n",
       "        [ 5.13272723e+02],\n",
       "        [-3.13644580e+02],\n",
       "        [-1.34082553e+02],\n",
       "        [-2.80183709e+01],\n",
       "        [-9.34599021e+02],\n",
       "        [ 1.19267064e+03],\n",
       "        [-6.78468407e+02],\n",
       "        [-4.97570771e+03],\n",
       "        [-3.91107272e+03],\n",
       "        [ 1.66843708e+03],\n",
       "        [ 4.98513388e+02],\n",
       "        [-4.64587732e+01],\n",
       "        [ 2.82154221e+03],\n",
       "        [-2.85620272e+03],\n",
       "        [ 2.38504193e+03],\n",
       "        [ 1.86314272e+04],\n",
       "        [ 1.48637642e+04],\n",
       "        [-4.53300726e+03],\n",
       "        [-8.23604823e+02],\n",
       "        [ 3.05910943e+02],\n",
       "        [-4.45111072e+03],\n",
       "        [ 3.68920790e+03],\n",
       "        [-4.67941702e+03],\n",
       "        [-3.40934881e+04],\n",
       "        [-2.94384641e+04],\n",
       "        [ 6.60230591e+03],\n",
       "        [ 5.81983701e+02],\n",
       "        [-4.45623047e+02],\n",
       "        [ 3.46656977e+03],\n",
       "        [-2.43384279e+03],\n",
       "        [ 4.27137780e+03],\n",
       "        [ 3.02072819e+04],\n",
       "        [ 2.87934002e+04],\n",
       "        [-4.83279581e+03],\n",
       "        [-8.17046354e+01],\n",
       "        [ 2.27599883e+02],\n",
       "        [-1.05147261e+03],\n",
       "        [ 6.42998376e+02],\n",
       "        [-1.37975894e+03],\n",
       "        [-1.03550344e+04],\n",
       "        [-1.07918302e+04],\n",
       "        [ 1.38600748e+03],\n",
       "        [-5.31401732e+01],\n",
       "        [-2.25307012e+01]]),\n",
       " array([[ 7.32658300e-01],\n",
       "        [-5.22935545e+00],\n",
       "        [ 2.63128142e+01],\n",
       "        [-1.25673735e+01],\n",
       "        [-1.67486276e+01],\n",
       "        [-3.10776363e+01],\n",
       "        [ 1.82919616e+01],\n",
       "        [-2.64869436e+00],\n",
       "        [ 1.14949339e+00],\n",
       "        [ 1.08728749e+02],\n",
       "        [-2.59211667e+02],\n",
       "        [ 9.18939766e+00],\n",
       "        [ 6.61083308e+02],\n",
       "        [ 5.58420966e+02],\n",
       "        [-2.18853824e+02],\n",
       "        [ 8.03711121e+01],\n",
       "        [ 4.75968690e+01],\n",
       "        [-5.14851419e+02],\n",
       "        [ 1.20019491e+03],\n",
       "        [ 7.55206943e+02],\n",
       "        [-6.18576223e+03],\n",
       "        [-4.40361105e+03],\n",
       "        [ 6.87665055e+02],\n",
       "        [-1.14631429e+03],\n",
       "        [-5.17306623e+02],\n",
       "        [ 1.02887568e+03],\n",
       "        [-2.89620426e+03],\n",
       "        [-5.65727196e+03],\n",
       "        [ 2.55967084e+04],\n",
       "        [ 1.77336212e+04],\n",
       "        [ 7.28795294e+02],\n",
       "        [ 5.61695674e+03],\n",
       "        [ 1.91511419e+03],\n",
       "        [-2.47561776e+02],\n",
       "        [ 3.76565421e+03],\n",
       "        [ 2.03412044e+04],\n",
       "        [-5.60043394e+04],\n",
       "        [-3.87998016e+04],\n",
       "        [-9.00775161e+03],\n",
       "        [-1.33749094e+04],\n",
       "        [-3.59976683e+03],\n",
       "        [-1.98903285e+03],\n",
       "        [-2.50126841e+03],\n",
       "        [-3.90435229e+04],\n",
       "        [ 6.84076082e+04],\n",
       "        [ 4.57348927e+04],\n",
       "        [ 2.07795085e+04],\n",
       "        [ 1.68535542e+04],\n",
       "        [ 3.75104688e+03],\n",
       "        [ 2.61456103e+03],\n",
       "        [ 6.67843967e+02],\n",
       "        [ 3.75340953e+04],\n",
       "        [-4.49330106e+04],\n",
       "        [-2.64723052e+04],\n",
       "        [-2.01794405e+04],\n",
       "        [-1.08187488e+04],\n",
       "        [-2.10411013e+03],\n",
       "        [-9.93406110e+02],\n",
       "        [-1.90522622e+00],\n",
       "        [-1.41064466e+04],\n",
       "        [ 1.26546413e+04],\n",
       "        [ 5.67975280e+03],\n",
       "        [ 7.19130213e+03],\n",
       "        [ 2.78881313e+03],\n",
       "        [ 5.04106100e+02]]),\n",
       " array([[ 1.27582499e+00],\n",
       "        [-8.74778217e+00],\n",
       "        [ 1.56824174e+01],\n",
       "        [-2.93262925e+01],\n",
       "        [-2.51706314e+01],\n",
       "        [-3.43911990e+01],\n",
       "        [ 2.21216824e+01],\n",
       "        [-3.60001819e+00],\n",
       "        [-1.24277450e+01],\n",
       "        [ 1.86364032e+02],\n",
       "        [-4.52148144e+01],\n",
       "        [ 4.95118948e+02],\n",
       "        [ 8.90222842e+02],\n",
       "        [ 6.87397442e+02],\n",
       "        [-3.32092090e+02],\n",
       "        [ 8.50872680e+01],\n",
       "        [ 3.80671365e+02],\n",
       "        [-1.31730806e+03],\n",
       "        [-6.69835211e+02],\n",
       "        [-5.63630803e+03],\n",
       "        [-8.87865167e+03],\n",
       "        [-6.62149023e+03],\n",
       "        [ 2.13303476e+03],\n",
       "        [-1.17316648e+03],\n",
       "        [-3.72959847e+03],\n",
       "        [ 5.48917958e+03],\n",
       "        [ 5.77400496e+03],\n",
       "        [ 3.97107442e+04],\n",
       "        [ 4.16231608e+04],\n",
       "        [ 3.77471699e+04],\n",
       "        [-9.08400588e+03],\n",
       "        [ 5.84060590e+03],\n",
       "        [ 1.79048819e+04],\n",
       "        [-1.45475995e+04],\n",
       "        [-1.95878148e+04],\n",
       "        [-1.66177111e+05],\n",
       "        [-1.06992442e+05],\n",
       "        [-1.40911755e+05],\n",
       "        [ 2.95452581e+04],\n",
       "        [-1.43518413e+04],\n",
       "        [-4.92567300e+04],\n",
       "        [ 2.51411030e+04],\n",
       "        [ 3.52551641e+04],\n",
       "        [ 4.15082275e+05],\n",
       "        [ 1.53875239e+05],\n",
       "        [ 3.47634187e+05],\n",
       "        [-6.92555941e+04],\n",
       "        [ 1.90193981e+04],\n",
       "        [ 8.13978659e+04],\n",
       "        [-2.73453837e+04],\n",
       "        [-3.54300191e+04],\n",
       "        [-6.05259732e+05],\n",
       "        [-1.10061780e+05],\n",
       "        [-5.33467669e+05],\n",
       "        [ 1.02382110e+05],\n",
       "        [-1.33836506e+04],\n",
       "        [-7.97762017e+04],\n",
       "        [ 1.67554127e+04],\n",
       "        [ 1.87984091e+04],\n",
       "        [ 4.73218871e+05],\n",
       "        [ 1.91357486e+04],\n",
       "        [ 4.48717408e+05],\n",
       "        [-8.19869455e+04],\n",
       "        [ 4.34792756e+03],\n",
       "        [ 4.26638785e+04],\n",
       "        [-4.35095797e+03],\n",
       "        [-4.10910108e+03],\n",
       "        [-1.52717867e+05],\n",
       "        [ 1.17469227e+04],\n",
       "        [-1.53750952e+05],\n",
       "        [ 2.65756956e+04],\n",
       "        [-3.83753544e+02],\n",
       "        [-9.57480266e+03]]),\n",
       " array([[ 8.46304674e-01],\n",
       "        [ 1.77914924e+01],\n",
       "        [ 4.24507971e+01],\n",
       "        [-4.96122668e+01],\n",
       "        [-1.08308128e+01],\n",
       "        [-4.91597339e+01],\n",
       "        [-5.86715678e+00],\n",
       "        [ 2.18310733e+01],\n",
       "        [-2.16229214e+01],\n",
       "        [-4.89936636e+02],\n",
       "        [-7.25568756e+02],\n",
       "        [ 1.17169561e+03],\n",
       "        [ 5.01900918e+02],\n",
       "        [ 1.25192386e+03],\n",
       "        [ 7.72420496e+02],\n",
       "        [-6.29268759e+02],\n",
       "        [ 6.27025962e+02],\n",
       "        [ 6.71863069e+03],\n",
       "        [ 6.85079187e+03],\n",
       "        [-1.63782391e+04],\n",
       "        [-4.80716919e+03],\n",
       "        [-1.72281507e+04],\n",
       "        [-1.62725724e+04],\n",
       "        [ 7.62310694e+03],\n",
       "        [-6.20213352e+03],\n",
       "        [-4.74312480e+04],\n",
       "        [-3.88241337e+04],\n",
       "        [ 1.34732529e+05],\n",
       "        [ 2.31222275e+04],\n",
       "        [ 1.49120719e+05],\n",
       "        [ 1.53978732e+05],\n",
       "        [-5.20477809e+04],\n",
       "        [ 3.11254278e+04],\n",
       "        [ 1.94952368e+05],\n",
       "        [ 1.37177392e+05],\n",
       "        [-6.67939511e+05],\n",
       "        [-8.97081021e+04],\n",
       "        [-8.38324307e+05],\n",
       "        [-8.20119097e+05],\n",
       "        [ 2.09452405e+05],\n",
       "        [-9.18509794e+04],\n",
       "        [-4.92234249e+05],\n",
       "        [-3.06959450e+05],\n",
       "        [ 2.04887907e+06],\n",
       "        [ 3.18865270e+05],\n",
       "        [ 3.03204982e+06],\n",
       "        [ 2.65393834e+06],\n",
       "        [-5.13342652e+05],\n",
       "        [ 1.68093898e+05],\n",
       "        [ 7.73345889e+05],\n",
       "        [ 4.33153879e+05],\n",
       "        [-3.90184179e+06],\n",
       "        [-8.07989364e+05],\n",
       "        [-6.89237008e+06],\n",
       "        [-5.30742561e+06],\n",
       "        [ 7.74419389e+05],\n",
       "        [-1.91950575e+05],\n",
       "        [-7.35997357e+05],\n",
       "        [-3.72564422e+05],\n",
       "        [ 4.47898702e+06],\n",
       "        [ 1.20209347e+06],\n",
       "        [ 9.40966096e+06],\n",
       "        [ 6.37984317e+06],\n",
       "        [-7.01852425e+05],\n",
       "        [ 1.32055234e+05],\n",
       "        [ 3.87747307e+05],\n",
       "        [ 1.78062719e+05],\n",
       "        [-2.83321722e+06],\n",
       "        [-9.20799223e+05],\n",
       "        [-6.97644201e+06],\n",
       "        [-4.20168027e+06],\n",
       "        [ 3.50386196e+05],\n",
       "        [-4.95527825e+04],\n",
       "        [-8.66268067e+04],\n",
       "        [-3.62121467e+04],\n",
       "        [ 7.57666638e+05],\n",
       "        [ 2.76720975e+05],\n",
       "        [ 2.13232995e+06],\n",
       "        [ 1.15697013e+06],\n",
       "        [-7.40335723e+04],\n",
       "        [ 7.67399040e+03]]),\n",
       " array([[ 1.07457392e+00],\n",
       "        [ 3.28997848e+00],\n",
       "        [ 1.72489604e+01],\n",
       "        [-5.71303996e+01],\n",
       "        [-2.89104919e+01],\n",
       "        [-6.58491165e+01],\n",
       "        [ 2.02797539e+01],\n",
       "        [ 2.20831589e+00],\n",
       "        [-1.68297543e+01],\n",
       "        [-2.11441465e+00],\n",
       "        [ 1.03402395e+02],\n",
       "        [ 1.38879876e+03],\n",
       "        [ 1.28779848e+03],\n",
       "        [ 2.01129032e+03],\n",
       "        [-2.00203605e+02],\n",
       "        [ 4.36977272e+01],\n",
       "        [ 4.89256722e+02],\n",
       "        [-6.58362015e+02],\n",
       "        [-4.20544441e+03],\n",
       "        [-1.85795363e+04],\n",
       "        [-1.79178945e+04],\n",
       "        [-3.21106360e+04],\n",
       "        [-4.35757644e+02],\n",
       "        [-2.50086352e+03],\n",
       "        [-4.23891640e+03],\n",
       "        [ 1.38481842e+04],\n",
       "        [ 3.98273965e+04],\n",
       "        [ 1.38871926e+05],\n",
       "        [ 1.35640993e+05],\n",
       "        [ 2.98222591e+05],\n",
       "        [ 1.34086762e+04],\n",
       "        [ 2.96411499e+04],\n",
       "        [ 1.58318252e+04],\n",
       "        [-1.12698995e+05],\n",
       "        [-1.98921227e+05],\n",
       "        [-5.82810953e+05],\n",
       "        [-6.35025861e+05],\n",
       "        [-1.64248845e+06],\n",
       "        [-7.02209745e+04],\n",
       "        [-1.83478189e+05],\n",
       "        [-2.08218301e+04],\n",
       "        [ 4.88440889e+05],\n",
       "        [ 6.07688756e+05],\n",
       "        [ 1.28838699e+06],\n",
       "        [ 1.84002509e+06],\n",
       "        [ 5.21255570e+06],\n",
       "        [ 1.35454893e+05],\n",
       "        [ 6.79091391e+05],\n",
       "        [-3.94908945e+04],\n",
       "        [-1.25217295e+06],\n",
       "        [-1.19053690e+06],\n",
       "        [-9.00987532e+05],\n",
       "        [-3.09682252e+06],\n",
       "        [-8.32336100e+06],\n",
       "        [ 9.97238751e+04],\n",
       "        [-1.56630539e+06],\n",
       "        [ 1.99745222e+05],\n",
       "        [ 1.96096637e+06],\n",
       "        [ 1.50071405e+06],\n",
       "        [-2.15950018e+06],\n",
       "        [ 2.46112842e+06],\n",
       "        [ 1.87398185e+06],\n",
       "        [-9.55664988e+05],\n",
       "        [ 2.26308102e+06],\n",
       "        [-3.44562405e+05],\n",
       "        [-1.84281397e+06],\n",
       "        [-1.17579309e+06],\n",
       "        [ 5.64415362e+06],\n",
       "        [ 1.20665118e+05],\n",
       "        [ 1.42026010e+07],\n",
       "        [ 1.80565464e+06],\n",
       "        [-1.98809571e+06],\n",
       "        [ 3.11680530e+05],\n",
       "        [ 9.54258121e+05],\n",
       "        [ 5.20468398e+05],\n",
       "        [-5.07992235e+06],\n",
       "        [-1.45404154e+06],\n",
       "        [-1.96324857e+07],\n",
       "        [-1.50957563e+06],\n",
       "        [ 9.69885979e+05],\n",
       "        [-1.47442076e+05],\n",
       "        [-2.09168138e+05],\n",
       "        [-9.93611530e+04],\n",
       "        [ 1.67866729e+06],\n",
       "        [ 6.35478162e+05],\n",
       "        [ 8.04113898e+06],\n",
       "        [ 4.81834769e+05],\n",
       "        [-2.01368251e+05],\n",
       "        [ 2.88237604e+04]]),\n",
       " array([[ 2.20049184e+00],\n",
       "        [-3.11790651e+01],\n",
       "        [-1.07573972e+02],\n",
       "        [-5.43894778e+01],\n",
       "        [-6.49476061e+01],\n",
       "        [-3.43223739e+01],\n",
       "        [ 1.70258876e+01],\n",
       "        [-5.28184764e-01],\n",
       "        [-3.45465599e+01],\n",
       "        [ 1.35661498e+03],\n",
       "        [ 3.89862829e+03],\n",
       "        [ 1.12237046e+03],\n",
       "        [ 2.51449052e+03],\n",
       "        [ 7.09830828e+02],\n",
       "        [ 9.41369775e+01],\n",
       "        [ 1.19218708e+02],\n",
       "        [ 1.07556692e+03],\n",
       "        [-2.44480730e+04],\n",
       "        [-5.23632964e+04],\n",
       "        [-1.17752690e+04],\n",
       "        [-3.60768160e+04],\n",
       "        [-5.46953762e+03],\n",
       "        [-7.12657124e+03],\n",
       "        [-3.10762206e+03],\n",
       "        [-1.24768275e+04],\n",
       "        [ 2.43853021e+05],\n",
       "        [ 3.62725597e+05],\n",
       "        [ 5.50638873e+04],\n",
       "        [ 2.78710321e+05],\n",
       "        [-7.66416882e+03],\n",
       "        [ 8.72814385e+04],\n",
       "        [ 2.89472518e+04],\n",
       "        [ 7.86944095e+04],\n",
       "        [-1.47541536e+06],\n",
       "        [-1.46779325e+06],\n",
       "        [-5.23107272e+03],\n",
       "        [-1.27899562e+06],\n",
       "        [ 4.47162913e+05],\n",
       "        [-5.32874891e+05],\n",
       "        [-1.49156192e+05],\n",
       "        [-3.13151518e+05],\n",
       "        [ 5.72386665e+06],\n",
       "        [ 3.64411790e+06],\n",
       "        [-1.05169299e+06],\n",
       "        [ 3.51393731e+06],\n",
       "        [-3.38491142e+06],\n",
       "        [ 1.87194659e+06],\n",
       "        [ 4.63893111e+05],\n",
       "        [ 8.38490772e+05],\n",
       "        [-1.46772031e+07],\n",
       "        [-5.51916948e+06],\n",
       "        [ 4.55329843e+06],\n",
       "        [-5.46123121e+06],\n",
       "        [ 1.18527850e+07],\n",
       "        [-3.77255476e+06],\n",
       "        [-8.68435007e+05],\n",
       "        [-1.54884605e+06],\n",
       "        [ 2.51181883e+07],\n",
       "        [ 4.62700967e+06],\n",
       "        [-8.21916631e+06],\n",
       "        [ 3.77717882e+06],\n",
       "        [-1.80258526e+07],\n",
       "        [ 3.59038757e+06],\n",
       "        [ 8.95470994e+05],\n",
       "        [ 1.97222636e+06],\n",
       "        [-2.83516793e+07],\n",
       "        [-1.16161835e+06],\n",
       "        [ 4.52049790e+06],\n",
       "        [ 8.22756434e+05],\n",
       "        [-4.24370500e+06],\n",
       "        [ 8.06265952e+05],\n",
       "        [-3.08706932e+05],\n",
       "        [-1.68961190e+06],\n",
       "        [ 2.02425362e+07],\n",
       "        [-1.36758858e+06],\n",
       "        [ 6.11359713e+06],\n",
       "        [-2.86295549e+06],\n",
       "        [ 5.30536799e+07],\n",
       "        [-5.53534839e+06],\n",
       "        [-2.96552888e+05],\n",
       "        [ 9.21113766e+05],\n",
       "        [-8.27625420e+06],\n",
       "        [ 1.24947194e+06],\n",
       "        [-1.00201187e+07],\n",
       "        [ 1.47822615e+06],\n",
       "        [-6.59404871e+07],\n",
       "        [ 5.05031372e+06],\n",
       "        [ 3.35673621e+05],\n",
       "        [-2.84582414e+05],\n",
       "        [ 1.47523254e+06],\n",
       "        [-3.18582577e+05],\n",
       "        [ 4.10172231e+06],\n",
       "        [-2.71263116e+05],\n",
       "        [ 2.62537869e+07],\n",
       "        [-1.55840207e+06],\n",
       "        [-9.81482809e+04],\n",
       "        [ 3.70995212e+04]]),\n",
       " array([[ 1.26472417e+00],\n",
       "        [ 1.83495359e+01],\n",
       "        [ 1.45050642e+01],\n",
       "        [-1.95214570e+02],\n",
       "        [-1.64138643e+01],\n",
       "        [-6.82342762e+01],\n",
       "        [ 4.47975305e+01],\n",
       "        [-1.12409198e+01],\n",
       "        [ 5.66450170e+01],\n",
       "        [-7.36356409e+02],\n",
       "        [ 1.97327556e+02],\n",
       "        [ 6.68457236e+03],\n",
       "        [ 2.60805070e+03],\n",
       "        [ 1.99933410e+03],\n",
       "        [-1.20530187e+03],\n",
       "        [ 4.24697811e+02],\n",
       "        [-2.41826688e+03],\n",
       "        [ 1.32553523e+04],\n",
       "        [-5.03618130e+03],\n",
       "        [-1.09540552e+05],\n",
       "        [-7.06539066e+04],\n",
       "        [-2.89107813e+04],\n",
       "        [ 1.72232644e+04],\n",
       "        [-7.05441138e+03],\n",
       "        [ 4.24535282e+04],\n",
       "        [-1.24210205e+05],\n",
       "        [ 3.98499661e+04],\n",
       "        [ 9.81058631e+05],\n",
       "        [ 8.91857441e+05],\n",
       "        [ 2.29676996e+05],\n",
       "        [-1.52292371e+05],\n",
       "        [ 6.29373291e+04],\n",
       "        [-3.78378853e+05],\n",
       "        [ 6.94720787e+05],\n",
       "        [-1.59847029e+05],\n",
       "        [-5.06123936e+06],\n",
       "        [-6.15572976e+06],\n",
       "        [-9.95033385e+05],\n",
       "        [ 8.34009443e+05],\n",
       "        [-3.56081239e+05],\n",
       "        [ 1.94554965e+06],\n",
       "        [-2.44212305e+06],\n",
       "        [ 3.49847657e+05],\n",
       "        [ 1.46229513e+07],\n",
       "        [ 2.44725686e+07],\n",
       "        [ 2.08407952e+06],\n",
       "        [-2.76844456e+06],\n",
       "        [ 1.32917564e+06],\n",
       "        [-6.13853632e+06],\n",
       "        [ 5.38448237e+06],\n",
       "        [-3.67605111e+05],\n",
       "        [-1.78840572e+07],\n",
       "        [-5.56355402e+07],\n",
       "        [-1.16593851e+06],\n",
       "        [ 5.15699777e+06],\n",
       "        [-3.30315703e+06],\n",
       "        [ 1.19857455e+07],\n",
       "        [-6.85175498e+06],\n",
       "        [-9.86837305e+02],\n",
       "        [-1.95309274e+07],\n",
       "        [ 6.52985113e+07],\n",
       "        [-4.70930656e+05],\n",
       "        [-3.82885256e+06],\n",
       "        [ 5.47168687e+06],\n",
       "        [-1.34847374e+07],\n",
       "        [ 3.08415746e+06],\n",
       "        [ 3.91977731e+05],\n",
       "        [ 1.02025857e+08],\n",
       "        [-2.37395667e+07],\n",
       "        [-6.15389174e+06],\n",
       "        [-2.64023160e+06],\n",
       "        [-5.99619225e+06],\n",
       "        [ 5.63833491e+06],\n",
       "        [ 4.16638978e+06],\n",
       "        [-2.65634082e+05],\n",
       "        [-1.44534282e+08],\n",
       "        [-1.05943738e+07],\n",
       "        [ 5.64585460e+06],\n",
       "        [ 4.86327019e+06],\n",
       "        [ 4.25381129e+06],\n",
       "        [ 5.59373432e+06],\n",
       "        [-7.53424068e+06],\n",
       "        [-1.23253786e+05],\n",
       "        [ 8.22939659e+07],\n",
       "        [-2.14075354e+07],\n",
       "        [ 3.55357073e+07],\n",
       "        [ 2.92536388e+06],\n",
       "        [-1.87069334e+06],\n",
       "        [-9.27958949e+06],\n",
       "        [ 4.71675986e+06],\n",
       "        [ 2.05345970e+05],\n",
       "        [-1.78227148e+06],\n",
       "        [ 4.79799797e+07],\n",
       "        [-6.82853068e+07],\n",
       "        [-8.00967281e+06],\n",
       "        [ 4.69451185e+05],\n",
       "        [ 5.14605934e+06],\n",
       "        [-1.10671625e+06],\n",
       "        [-6.48686005e+04],\n",
       "        [-1.12540300e+07],\n",
       "        [-2.08160844e+07],\n",
       "        [ 3.36027621e+07],\n",
       "        [ 3.60378953e+06],\n",
       "        [-5.43006796e+04],\n",
       "        [-1.06827581e+06]])]"
      ]
     },
     "execution_count": 56,
     "metadata": {},
     "output_type": "execute_result"
    }
   ],
   "source": [
    "w_list # pesos dos modelos"
   ]
  },
  {
   "cell_type": "markdown",
   "id": "2a0fe362",
   "metadata": {},
   "source": [
    "## c) Reporte o RMSE (raiz quadrada do erro quadrático médio) no treinamento e no teste para cada modelo. Faça um gráfico para o treino e um gráfico para o teste."
   ]
  },
  {
   "cell_type": "code",
   "execution_count": 57,
   "id": "5bd60424",
   "metadata": {},
   "outputs": [],
   "source": [
    "y_teste_standard = y_standard.transform(y_teste) # padroniza y do teste usando as métricas do treino"
   ]
  },
  {
   "cell_type": "code",
   "execution_count": 58,
   "id": "9382adf7",
   "metadata": {},
   "outputs": [
    {
     "data": {
      "text/plain": [
       "(200, 104)"
      ]
     },
     "execution_count": 58,
     "metadata": {},
     "output_type": "execute_result"
    }
   ],
   "source": [
    "# mesma coisa de antes de criar um X com todas as potências, mas agora para o teste\n",
    "X_teste_max_min = X_min_max.transform(X_teste) # usa as métricas do treino para padronizar o teste\n",
    "\n",
    "X_teste_max_min_order = X_teste_max_min.copy()\n",
    "for pot in range(2,14):\n",
    "    X_teste_max_min_order_pot = X_teste_max_min ** pot # X^pot\n",
    "    X_teste_max_min_order = np.concat([X_teste_max_min_order, X_teste_max_min_order_pot], axis=1) # junta os dados\n",
    "\n",
    "X_teste_max_min_order = X_min_max_order.transform(X_teste_max_min_order) # usa as métricas do treino para padronizar o teste\n",
    "X_teste_max_min_order.shape"
   ]
  },
  {
   "cell_type": "code",
   "execution_count": 59,
   "id": "f47462e4",
   "metadata": {},
   "outputs": [],
   "source": [
    "rmse_list = []\n",
    "for i, w in enumerate(w_list): # w_list são os modelos treinados\n",
    "    X_treino_max_min_order_fit = X_treino_max_min_order[:, : cuts[i]] # pegar as variáveis do modelo correspondente\n",
    "    y_treino_hat = predict(X_treino_max_min_order_fit, w) # prever os valores | lembrando que a função predict insere o intercepto\n",
    "    y_treino_hat = y_standard.inverse(y_treino_hat) # despadroniza\n",
    "    rmse_treino = rmse(y_treino, y_treino_hat) # calcula o rmse\n",
    "    \n",
    "    X_teste_max_min_order_fit = X_teste_max_min_order[:, : cuts[i]] # pegar as variáveis do modelo correspondente\n",
    "    y_teste_hat = predict(X_teste_max_min_order_fit, w) # prever os valores | lembrando que a função predict insere o intercepto\n",
    "    y_teste_hat = y_standard.inverse(y_teste_hat) # despadroniza\n",
    "    rmse_teste = rmse(y_teste, y_teste_hat) # calcula o rmse\n",
    "    \n",
    "    rmse_list.append((rmse_treino,rmse_teste)) # salvar os resultados"
   ]
  },
  {
   "cell_type": "code",
   "execution_count": 60,
   "id": "3c6b6e4c",
   "metadata": {},
   "outputs": [
    {
     "data": {
      "text/plain": [
       "[(np.float64(0.6670271800080699), np.float64(0.6865877184653485)),\n",
       " (np.float64(0.6404857414503368), np.float64(0.6912800437727695)),\n",
       " (np.float64(0.6210671277805947), np.float64(0.8590893217544183)),\n",
       " (np.float64(0.6097914030908421), np.float64(2.6322018500016706)),\n",
       " (np.float64(0.5990697995285029), np.float64(115.69222436883165)),\n",
       " (np.float64(0.5874329217620703), np.float64(1171.3805658020863)),\n",
       " (np.float64(0.5807058405251552), np.float64(7217.075565503116)),\n",
       " (np.float64(0.5796993470398135), np.float64(810.715352928197)),\n",
       " (np.float64(0.5783916194524034), np.float64(285213.627519398)),\n",
       " (np.float64(0.5734121381238818), np.float64(5426404.851293428)),\n",
       " (np.float64(0.5700096463103226), np.float64(54373672.482871935)),\n",
       " (np.float64(0.5875947905756647), np.float64(308218868.23572147)),\n",
       " (np.float64(0.5768031413359511), np.float64(938854683.7795749))]"
      ]
     },
     "execution_count": 60,
     "metadata": {},
     "output_type": "execute_result"
    }
   ],
   "source": [
    "rmse_list # Treino e Teste"
   ]
  },
  {
   "cell_type": "code",
   "execution_count": 61,
   "id": "2b113451",
   "metadata": {},
   "outputs": [],
   "source": [
    "rmse_treino, rmse_teste = zip(*rmse_list)"
   ]
  },
  {
   "cell_type": "code",
   "execution_count": 62,
   "id": "4a4e8db9",
   "metadata": {},
   "outputs": [
    {
     "data": {
      "image/png": "[encoded data removed]",
      "text/plain": [
       "<Figure size 800x400 with 2 Axes>"
      ]
     },
     "metadata": {},
     "output_type": "display_data"
    }
   ],
   "source": [
    "order = list(range(1, 14))\n",
    "figure, ax = plt.subplots(2,1,figsize=(8, 4))\n",
    "sns.lineplot(x=order, y=rmse_treino, ax=ax[0], label=\"Treino\")\n",
    "sns.lineplot(x=order, y=rmse_teste, ax=ax[1], label=\"Teste\", color='red')\n",
    "plt.xlabel(\"Ordem\")\n",
    "plt.ylabel(\"RMSE\")\n",
    "plt.show()"
   ]
  },
  {
   "cell_type": "markdown",
   "id": "023ca974",
   "metadata": {},
   "source": [
    "## d) Repita os 2 itens anteriores incluindo um termo de regularização L2 (por exemplo, com fator λ = 0.01)."
   ]
  },
  {
   "cell_type": "code",
   "execution_count": 63,
   "id": "d2123eea",
   "metadata": {},
   "outputs": [],
   "source": [
    "def ols_l2(X, y, lmbda = 0.01):\n",
    "    \"\"\"\n",
    "    Fit com OLS com regularização L2\n",
    "    \"\"\"\n",
    "    ones_vetor = np.ones(X.shape[0])\n",
    "    ones_vetor = ones_vetor.reshape(-1, 1)\n",
    "    X = np.concatenate([ones_vetor, X], axis=1)\n",
    "    eye = np.eye(X.shape[1])\n",
    "    eye[0, 0] = 0\n",
    "    w = np.linalg.solve(X.T @ X + lmbda * eye, X.T @ y)\n",
    "    return w"
   ]
  },
  {
   "cell_type": "code",
   "execution_count": 64,
   "id": "24e9b2db",
   "metadata": {},
   "outputs": [],
   "source": [
    "w_list = []\n",
    "max_min_order = []\n",
    "for cut in cuts:\n",
    "    X_treino_max_min_order_fit = X_treino_max_min_order[:,:cut]\n",
    "    w = ols_l2(X_treino_max_min_order_fit,y_treino_standard) # lembrando que a função ols_l2 insere o intercepto\n",
    "    w_list.append(w)"
   ]
  },
  {
   "cell_type": "code",
   "execution_count": 65,
   "id": "f409be49",
   "metadata": {},
   "outputs": [],
   "source": [
    "rmse_list = []\n",
    "for i, w in enumerate(w_list):\n",
    "    X_treino_max_min_order_fit = X_treino_max_min_order[:, : cuts[i]]\n",
    "    y_treino_hat = predict(X_treino_max_min_order_fit, w)\n",
    "    y_treino_hat = y_standard.inverse(y_treino_hat)\n",
    "    rmse_treino = rmse(y_treino, y_treino_hat)\n",
    "    \n",
    "    X_teste_max_min_order_fit = X_teste_max_min_order[:, : cuts[i]]\n",
    "    y_teste_hat = predict(X_teste_max_min_order_fit, w)\n",
    "    y_teste_hat = y_standard.inverse(y_teste_hat)\n",
    "    rmse_teste = rmse(y_teste, y_teste_hat)\n",
    "    rmse_list.append((rmse_treino,rmse_teste))"
   ]
  },
  {
   "cell_type": "code",
   "execution_count": 66,
   "id": "6239e4fb",
   "metadata": {},
   "outputs": [
    {
     "data": {
      "text/plain": [
       "[(np.float64(0.6670338860269857), np.float64(0.6867088948819817)),\n",
       " (np.float64(0.6409614440764634), np.float64(0.6850042294182543)),\n",
       " (np.float64(0.6278690335490968), np.float64(0.7872575367447605)),\n",
       " (np.float64(0.6257186551642399), np.float64(1.1013227133288654)),\n",
       " (np.float64(0.6243336510340558), np.float64(1.59800805648337)),\n",
       " (np.float64(0.6233004119655281), np.float64(2.0972255744516946)),\n",
       " (np.float64(0.6223270115634727), np.float64(2.362348841871315)),\n",
       " (np.float64(0.6212271228050865), np.float64(2.1177984281291815)),\n",
       " (np.float64(0.6200335063183724), np.float64(1.0480791596356693)),\n",
       " (np.float64(0.6189213043583466), np.float64(2.084252435795079)),\n",
       " (np.float64(0.6180170174471794), np.float64(7.358905537050083)),\n",
       " (np.float64(0.6173458750150674), np.float64(16.836400476265275)),\n",
       " (np.float64(0.61687821793015), np.float64(33.00420692083656))]"
      ]
     },
     "execution_count": 66,
     "metadata": {},
     "output_type": "execute_result"
    }
   ],
   "source": [
    "rmse_list"
   ]
  },
  {
   "cell_type": "code",
   "execution_count": 67,
   "id": "60be9e72",
   "metadata": {},
   "outputs": [],
   "source": [
    "rmse_treino, rmse_teste = zip(*rmse_list)"
   ]
  },
  {
   "cell_type": "code",
   "execution_count": 68,
   "id": "eef7f884",
   "metadata": {},
   "outputs": [
    {
     "data": {
      "image/png": "[encoded data removed]",
      "text/plain": [
       "<Figure size 800x400 with 2 Axes>"
      ]
     },
     "metadata": {},
     "output_type": "display_data"
    }
   ],
   "source": [
    "order = list(range(1, 14))\n",
    "figure, ax = plt.subplots(2,1,figsize=(8, 4))\n",
    "sns.lineplot(x=order, y=rmse_treino, ax=ax[0], label=\"Treino\")\n",
    "sns.lineplot(x=order, y=rmse_teste, ax=ax[1], label=\"Teste\", color='red')\n",
    "plt.xlabel(\"Ordem\")\n",
    "plt.ylabel(\"RMSE\")\n",
    "plt.show()"
   ]
  }
 ],
 "metadata": {
  "kernelspec": {
   "display_name": "datascience",
   "language": "python",
   "name": "python3"
  },
  "language_info": {
   "codemirror_mode": {
    "name": "ipython",
    "version": 3
   },
   "file_extension": ".py",
   "mimetype": "text/x-python",
   "name": "python",
   "nbconvert_exporter": "python",
   "pygments_lexer": "ipython3",
   "version": "3.12.9"
  }
 },
 "nbformat": 4,
 "nbformat_minor": 5
}
