{
 "cells": [
  {
   "cell_type": "code",
   "execution_count": 1,
   "id": "8a29fc25",
   "metadata": {},
   "outputs": [],
   "source": [
    "import numpy as np # para criar a MLP\n",
    "import matplotlib.pyplot as plt # plotar a curva de custo\n",
    "from scipy.stats import randint, rv_discrete, uniform # para o random search"
   ]
  },
  {
   "cell_type": "code",
   "execution_count": null,
   "id": "94fae6fb",
   "metadata": {},
   "outputs": [],
   "source": [
    "class MLP:\n",
    "    \"\"\"\n",
    "    Classe que fiz para implementação da MLP (Perceptron Multicamadas), para\n",
    "    regressão e classificação (multinomial). A principal diferença entre os dois modos está nas funções de ativação\n",
    "    utilizadas e na forma de inicialização dos pesos. Eu utilizei a função ReLU para classificação e tanh\n",
    "    para regressão.\n",
    "\n",
    "    Eu construí a rede para ter uma única camada oculta, pois essa configuração foi pedida para \n",
    "    as questões. A classe recebe os dados de treino e teste, sendo que os dados de teste são\n",
    "    utilizados apenas para o acompanhamento visual da função de custo ao longo das épocas.\n",
    "\n",
    "    A classe inclui hiperparâmetros:\n",
    "    learning_rate: taxa de aprendizado.\n",
    "    momentum: fator de momento para atualização dos pesos.\n",
    "    epochs: número total de épocas de treinamento.\n",
    "    batch_size: tamanho do mini-batch.\n",
    "    lambda_l2: coeficiente de regularização L2.\n",
    "    scheduler_learning_rate: possibilidade de ajuste dinâmico da taxa de aprendizado\n",
    "       (embora, na prática, essa funcionalidade não tenha se mostrado positiva nos testes que realizei).\n",
    "    eval: ativa o print() dos resultados ao final de cada época.\n",
    "    seed: reprodução dos resultados.\n",
    "\n",
    "    A classe também armazena o histórico do custo durante o treinamento.\n",
    "    \"\"\"\n",
    "\n",
    "    def __init__(\n",
    "        self,\n",
    "        X,\n",
    "        y,\n",
    "        X_teste,\n",
    "        y_teste,\n",
    "        mode=\"Regression\",\n",
    "        hidden_size=100,\n",
    "        learning_rate=0.1,\n",
    "        momentum=0,\n",
    "        epochs=1000,\n",
    "        batch_size=16,\n",
    "        lambda_l2=0,\n",
    "        scheduler_learning_rate=None,\n",
    "        eval=True,\n",
    "        seed=2,\n",
    "    ):\n",
    "        self.historico_custo = []\n",
    "        self.X = X\n",
    "        self.y = y\n",
    "        self.X_teste = X_teste\n",
    "        self.y_teste = y_teste\n",
    "        self.mode = mode\n",
    "        self.epochs = epochs\n",
    "        self.batch_size = batch_size\n",
    "        self.lambda_l2 = lambda_l2\n",
    "        self.scheduler_learning_rate = scheduler_learning_rate\n",
    "        self.eval = eval\n",
    "\n",
    "        input_size = self.X.shape[1]\n",
    "\n",
    "        self.random_1 = np.random.default_rng(seed)\n",
    "        self.random_2 = np.random.default_rng(seed + 1)\n",
    "        \n",
    "        # Como comentei o tipo de inicialização dos pesos depende do tipo do problema. \n",
    "        # Usei as inicialização aleatória baseada em heurísticas\n",
    "        if mode == \"Regression\":\n",
    "            output_size = 1\n",
    "            self.W1 = self.random_1.normal(size=(input_size, hidden_size)) * np.sqrt(\n",
    "                1 / input_size\n",
    "            )\n",
    "            self.b1 = np.zeros((1, hidden_size))\n",
    "            self.W2 = self.random_2.normal(size=(hidden_size, output_size)) * np.sqrt(\n",
    "                1 / hidden_size\n",
    "            )\n",
    "            self.b2 = np.zeros((1, output_size))\n",
    "        elif self.mode == \"Classification\":\n",
    "            output_size = len(np.unique(self.y))\n",
    "            self.W1 = self.random_1.normal(size=(input_size, hidden_size)) * np.sqrt(\n",
    "                2 / input_size\n",
    "            )\n",
    "            self.b1 = np.zeros((1, hidden_size)) + 0.01\n",
    "            self.W2 = self.random_2.normal(size=(hidden_size, output_size)) * np.sqrt(\n",
    "                2 / hidden_size\n",
    "            )\n",
    "            self.b2 = np.zeros((1, output_size)) + 0.01\n",
    "\n",
    "        self.base_learning_rate = learning_rate\n",
    "        self.momentum = momentum\n",
    "\n",
    "        self.v_W1 = np.zeros_like(self.W1)\n",
    "        self.v_b1 = np.zeros_like(self.b1)\n",
    "        self.v_W2 = np.zeros_like(self.W2)\n",
    "        self.v_b2 = np.zeros_like(self.b2)\n",
    "\n",
    "    def tanh(self, x):\n",
    "        return np.tanh(x)\n",
    "\n",
    "    def tanh_derivative(self, x):\n",
    "        return 1 - np.tanh(x) ** 2\n",
    "\n",
    "    def relu(self, x):\n",
    "        return np.maximum(0, x)\n",
    "\n",
    "    def relu_derivative(self, x):\n",
    "        return (x > 0).astype(float)\n",
    "\n",
    "    def softmax(self, x):\n",
    "        exp_x = np.exp(x - np.max(x, axis=1, keepdims=True))\n",
    "        return exp_x / np.sum(exp_x, axis=1, keepdims=True)\n",
    "\n",
    "    def cross_entropy_loss(self, y_pred, y_true):\n",
    "        m = y_true.shape[0]\n",
    "        cross_entropy_loss = -np.log(y_pred[range(m), y_true] + 1e-8).mean()\n",
    "        return cross_entropy_loss\n",
    "\n",
    "    def mse(self, y_pred, y_true):\n",
    "        return np.mean((y_pred - y_true) ** 2) / 2\n",
    "\n",
    "    def activation_function(self, Z):\n",
    "        if self.mode == \"Regression\":\n",
    "            return self.tanh(Z)\n",
    "        elif self.mode == \"Classification\":\n",
    "            return self.relu(Z)\n",
    "\n",
    "    def activation_function_derivate(self, Z):\n",
    "        if self.mode == \"Regression\":\n",
    "            return self.tanh_derivative(Z)\n",
    "        elif self.mode == \"Classification\":\n",
    "            return self.relu_derivative(Z)\n",
    "\n",
    "    def output_function(self, Z):\n",
    "        if self.mode == \"Regression\":\n",
    "            return Z\n",
    "        elif self.mode == \"Classification\":\n",
    "            return self.softmax(Z)\n",
    "\n",
    "    def cost_function(self, y_pred, y_true):\n",
    "        if self.mode == \"Regression\":\n",
    "            return self.mse(y_pred, y_true)\n",
    "        elif self.mode == \"Classification\":\n",
    "            return self.cross_entropy_loss(y_pred, y_true)\n",
    "\n",
    "    def forward(self, X):\n",
    "        self.U = X @ self.W1 + self.b1\n",
    "        self.Z = self.activation_function(self.U)\n",
    "        self.R = self.Z @ self.W2 + self.b2\n",
    "        return self.output_function(self.R)\n",
    "\n",
    "    def backward(self, X, y, y_pred):\n",
    "        m = X.shape[0]\n",
    "\n",
    "        if self.mode == \"Regression\":\n",
    "            delta = (y_pred - y) / m\n",
    "        elif self.mode == \"Classification\":\n",
    "            delta = y_pred.copy()\n",
    "            delta[range(m), y] -= 1\n",
    "            delta /= m\n",
    "\n",
    "        teta = (delta @ self.W2.T) * self.activation_function_derivate(self.U)\n",
    "\n",
    "        dW2 = self.Z.T @ delta\n",
    "        dW1 = X.T @ teta\n",
    "        db2 = np.sum(delta, axis=0, keepdims=True)\n",
    "        db1 = np.sum(teta, axis=0, keepdims=True)\n",
    "\n",
    "        dW2 += self.lambda_l2 * self.W2 / m\n",
    "        dW1 += self.lambda_l2 * self.W1 / m\n",
    "\n",
    "        return dW1, db1, dW2, db2\n",
    "\n",
    "    def update_weights(self, dW1, db1, dW2, db2):\n",
    "        self.v_W2 = self.momentum * self.v_W2 - self.learning_rate * dW2\n",
    "        self.v_b2 = self.momentum * self.v_b2 - self.learning_rate * db2\n",
    "        self.v_W1 = self.momentum * self.v_W1 - self.learning_rate * dW1\n",
    "        self.v_b1 = self.momentum * self.v_b1 - self.learning_rate * db1\n",
    "\n",
    "        self.W2 += self.v_W2\n",
    "        self.b2 += self.v_b2\n",
    "        self.W1 += self.v_W1\n",
    "        self.b1 += self.v_b1\n",
    "\n",
    "    def update_learning_rate(self, epoch):\n",
    "        if self.scheduler_learning_rate == \"exponencial\":\n",
    "            self.learning_rate = self.base_learning_rate / (1 + epoch)\n",
    "        elif self.scheduler_learning_rate == \"linear\":\n",
    "            self.learning_rate = self.base_learning_rate * (1 - epoch / self.epochs)\n",
    "        else:\n",
    "            self.learning_rate = self.base_learning_rate\n",
    "\n",
    "    def train(self):\n",
    "        self.historico_custo = []\n",
    "        n = self.X.shape[0]\n",
    "        melhor_loss_test = float(\"inf\")\n",
    "        paciencia = 0\n",
    "        tolerancia = 30\n",
    "        delta_tolerancia = 1e-6\n",
    "\n",
    "        for epoch in range(1, self.epochs + 1):\n",
    "            permutation = self.random_1.permutation(n)\n",
    "            X_shuffled = self.X[permutation]\n",
    "            y_shuffled = self.y[permutation]\n",
    "\n",
    "            for i in range(0, n, self.batch_size):\n",
    "                X_batch = X_shuffled[i : i + self.batch_size]\n",
    "                y_batch = y_shuffled[i : i + self.batch_size]\n",
    "\n",
    "                y_pred = self.forward(X_batch)\n",
    "                dW1, db1, dW2, db2 = self.backward(X_batch, y_batch, y_pred)\n",
    "\n",
    "                self.update_learning_rate(epoch)\n",
    "                self.update_weights(dW1, db1, dW2, db2)\n",
    "\n",
    "            y_pred_train = self.forward(self.X)\n",
    "            y_pred_test = self.forward(self.X_teste)\n",
    "\n",
    "            loss_train = self.cost_function(y_pred_train, self.y)\n",
    "            loss_test = self.cost_function(y_pred_test, self.y_teste)\n",
    "\n",
    "            self.historico_custo.append((epoch, loss_train, loss_test))\n",
    "\n",
    "            if self.eval:\n",
    "                print(\n",
    "                    f\"Epoch {epoch}/{self.epochs} - Loss: {loss_train:.4f} | Val Loss: {loss_test:.4f}\"\n",
    "                )\n",
    "\n",
    "            if melhor_loss_test - loss_test >= delta_tolerancia:\n",
    "                melhor_loss_test = loss_test\n",
    "                paciencia = 0\n",
    "            else:\n",
    "                paciencia += 1\n",
    "                if paciencia >= tolerancia:\n",
    "                    if self.eval:\n",
    "                        print(\n",
    "                            f\"Parando antecipadamente: sem melhora em {tolerancia} épocas consecutivas.\"\n",
    "                        )\n",
    "                    break\n",
    "\n",
    "    def predict(self, X):\n",
    "        y_pred = self.forward(X)\n",
    "        if self.mode == \"Regression\":\n",
    "            return y_pred\n",
    "        elif self.mode == \"Classification\":\n",
    "            return np.argmax(y_pred, axis=1)"
   ]
  },
  {
   "cell_type": "code",
   "execution_count": 3,
   "id": "d2eea9b7",
   "metadata": {},
   "outputs": [],
   "source": [
    "class StandardScaler:\n",
    "    \"\"\"\n",
    "    Classe para padronizar usando z-score\n",
    "    \"\"\"\n",
    "\n",
    "    def __init__(self):\n",
    "        self.mean = None\n",
    "        self.std = None\n",
    "\n",
    "    def fit(self, X):\n",
    "        self.mean = np.mean(X, axis=0)\n",
    "        self.std = np.std(X, ddof=1, axis=0)\n",
    "\n",
    "    def fit_transform(self, X):\n",
    "        self.fit(X)\n",
    "        return (X - self.mean) / self.std\n",
    "\n",
    "    def transform(self, X):\n",
    "        return (X - self.mean) / self.std\n",
    "\n",
    "    def inverse(self, X):\n",
    "        return X * self.std + self.mean"
   ]
  },
  {
   "cell_type": "code",
   "execution_count": 4,
   "id": "be2e695a",
   "metadata": {},
   "outputs": [],
   "source": [
    "def train_test_split(X, y, test_size=0.2, random_state=42):\n",
    "    random_seed = np.random.default_rng(seed=random_state)\n",
    "    size_data = X.shape[0]\n",
    "    id_random = random_seed.permutation(size_data)\n",
    "    tamanho_treino = int((1 - test_size) * size_data)\n",
    "    id_treino = id_random[:tamanho_treino]\n",
    "    id_teste = id_random[tamanho_treino:]\n",
    "    return X[id_treino, :], X[id_teste, :], y[id_treino, :], y[id_teste, :]"
   ]
  },
  {
   "cell_type": "code",
   "execution_count": 5,
   "id": "3e843046",
   "metadata": {},
   "outputs": [],
   "source": [
    "class RandomSearchMLP:\n",
    "    \"\"\"\n",
    "    Classe que fiz para realizar uma busca aleatória (Random Search) de hiperparâmetros\n",
    "    para o MLP.\n",
    "\n",
    "    A busca é feita com base em duas categorias de parâmetros:\n",
    "    - parameters_distributions: dicionário contendo os hiperparâmetros que devem ser\n",
    "      amostrados aleatoriamente, cada um associado a uma distribuição.\n",
    "    - parameters_other: dicionário com os parâmetros fixos que permanecem constantes durante os testes.\n",
    "\n",
    "    A cada repetição da busca (controlada por repeats), um novo conjunto de hiperparâmetros é\n",
    "    amostrado, o modelo é treinado e o desempenho é registrado com base no erro de validação.\n",
    "    Ao final, os melhores parâmetros (com menor erro de validação) são armazenados em best_params.\n",
    "    \"\"\"\n",
    "\n",
    "    def __init__(\n",
    "        self,\n",
    "        X_train,\n",
    "        y_train,\n",
    "        X_validation,\n",
    "        y_validation,\n",
    "        MLP,\n",
    "        parameters_distributions=None,\n",
    "        parameters_other=None,\n",
    "        repeats=10,\n",
    "    ):\n",
    "        self.X_train = X_train\n",
    "        self.y_train = y_train\n",
    "        self.X_validation = X_validation\n",
    "        self.y_validation = y_validation\n",
    "        self.model = MLP\n",
    "        self.parameters_distributions = parameters_distributions\n",
    "        self.parameters_other = parameters_other\n",
    "        self.repeats = repeats\n",
    "        self.results = []\n",
    "        self.best_params = None\n",
    "\n",
    "    def search(self):\n",
    "        self.results = []\n",
    "\n",
    "        for repeat in range(self.repeats):\n",
    "            parametros_random = {\n",
    "                key: value.rvs(size=1, random_state=repeat).item()\n",
    "                for key, value in self.parameters_distributions.items()\n",
    "            }\n",
    "            parametros = parametros_random | self.parameters_other\n",
    "            model = self.model(\n",
    "                self.X_train,\n",
    "                self.y_train,\n",
    "                self.X_validation,\n",
    "                self.y_validation,\n",
    "                **parametros,\n",
    "            )\n",
    "            model.train()\n",
    "            _, _, er_test = zip(*model.historico_custo)\n",
    "            self.results.append((parametros_random, model.historico_custo, er_test[-1]))\n",
    "\n",
    "        test_loss = [x[2] for x in self.results]\n",
    "        arg_min_test = np.argmin(test_loss)\n",
    "        self.best_params = self.results[arg_min_test]"
   ]
  },
  {
   "cell_type": "code",
   "execution_count": 6,
   "id": "70fb9ce3",
   "metadata": {},
   "outputs": [],
   "source": [
    "def rmse(y, y_hat):\n",
    "    return np.sqrt(np.mean((y - y_hat) ** 2))\n",
    "\n",
    "\n",
    "def mae(y, y_hat):\n",
    "    return np.mean(np.abs(y - y_hat))\n",
    "\n",
    "\n",
    "def mre(y, y_hat, eps=1e-8):\n",
    "    return np.mean(np.abs((y - y_hat) / (y + eps)))"
   ]
  },
  {
   "cell_type": "code",
   "execution_count": 7,
   "id": "744c1b0a",
   "metadata": {},
   "outputs": [],
   "source": [
    "def calc_acuracia_global(y, y_hat):\n",
    "    \"\"\"\n",
    "    Calcular a acurácia global\n",
    "    \"\"\"\n",
    "    return np.mean(y == y_hat)\n",
    "\n",
    "def matriz_confusao(y, y_hat):\n",
    "    \"\"\"\n",
    "    Calcular a matriz de confusão\n",
    "    \"\"\"\n",
    "    classes = np.unique(y)\n",
    "    n_classes = len(classes)\n",
    "    matriz = np.zeros((n_classes, n_classes), dtype=int)\n",
    "\n",
    "    for i, true_class in enumerate(classes):\n",
    "        for j, pred_class in enumerate(classes):\n",
    "            matriz[i, j] = np.sum((y == true_class) & (y_hat == pred_class))\n",
    "    return matriz"
   ]
  },
  {
   "cell_type": "markdown",
   "id": "849aecf7",
   "metadata": {},
   "source": [
    "# Questão 1 \n",
    "Considere o conjunto de dados disponível em `concrete.csv`, organizado em 9 colunas, sendo as 8 primeiras colunas os atributos e a última coluna a saída. Os 8 atributos referem-se à caracterização de diferentes tipos de concreto para construção civil. A saída é a resistência à compressão do concreto (em megapascal, MPa). Maiores detalhes sobre os dados podem ser conferidos em: [https://www.openml.org/d/4353](https://www.openml.org/d/4353).\n",
    "\n",
    "## a) Considere um modelo de regressão não linear baseado em redes neurais artificiais. Separe os dados aleatoriamente em treino, validação e teste (por exemplo, 60%, 20% e 20%). Nesse cenário, treine e avalie o modelo abaixo:\n",
    "\n",
    "– **MLP (multilayer perceptron)**: 1 camada oculta e treinamento em *minibatch* via gradiente descendente estocástico com termo de *momentum*. Utilize o conjunto de validação para ajustar os hiperparâmetros."
   ]
  },
  {
   "cell_type": "code",
   "execution_count": 8,
   "id": "9099a3e8",
   "metadata": {},
   "outputs": [],
   "source": [
    "concrete = np.loadtxt(\"concrete.csv\", delimiter=',')"
   ]
  },
  {
   "cell_type": "code",
   "execution_count": 9,
   "id": "33d477e2",
   "metadata": {},
   "outputs": [
    {
     "data": {
      "text/plain": [
       "(1030, 9)"
      ]
     },
     "execution_count": 9,
     "metadata": {},
     "output_type": "execute_result"
    }
   ],
   "source": [
    "concrete.shape"
   ]
  },
  {
   "cell_type": "code",
   "execution_count": 10,
   "id": "6f629a5b",
   "metadata": {},
   "outputs": [],
   "source": [
    "X = concrete[:,0:8]"
   ]
  },
  {
   "cell_type": "code",
   "execution_count": 11,
   "id": "aa5c4398",
   "metadata": {},
   "outputs": [],
   "source": [
    "y = concrete[:,8].reshape(-1,1)"
   ]
  },
  {
   "cell_type": "code",
   "execution_count": 12,
   "id": "a4c8a339",
   "metadata": {},
   "outputs": [],
   "source": [
    "X_train_validation, X_test, y_train_validation, y_test = train_test_split(X, y, test_size=0.2, random_state=42)"
   ]
  },
  {
   "cell_type": "code",
   "execution_count": 13,
   "id": "e1a0d1fc",
   "metadata": {},
   "outputs": [],
   "source": [
    "X_train, X_validation, y_train, y_validation = train_test_split(X_train_validation, y_train_validation, test_size=0.2, random_state=42)"
   ]
  },
  {
   "cell_type": "code",
   "execution_count": 14,
   "id": "d9710f6f",
   "metadata": {},
   "outputs": [],
   "source": [
    "x_scaler = StandardScaler()\n",
    "X_train_standard = x_scaler.fit_transform(X_train)"
   ]
  },
  {
   "cell_type": "code",
   "execution_count": 15,
   "id": "e02bd997",
   "metadata": {},
   "outputs": [],
   "source": [
    "y_scaler = StandardScaler()\n",
    "y_train_standard = y_scaler.fit_transform(y_train)"
   ]
  },
  {
   "cell_type": "code",
   "execution_count": 16,
   "id": "7ac93cc7",
   "metadata": {},
   "outputs": [],
   "source": [
    "X_validation_standard = x_scaler.transform(X_validation)"
   ]
  },
  {
   "cell_type": "code",
   "execution_count": 17,
   "id": "2665c3ac",
   "metadata": {},
   "outputs": [],
   "source": [
    "y_validation_standard = y_scaler.transform(y_validation)"
   ]
  },
  {
   "cell_type": "code",
   "execution_count": 18,
   "id": "ace82aa8",
   "metadata": {},
   "outputs": [],
   "source": [
    "X_test_standard = x_scaler.transform(X_test)\n",
    "y_test_standard = y_scaler.transform(y_test)"
   ]
  },
  {
   "cell_type": "code",
   "execution_count": 19,
   "id": "ac23d037",
   "metadata": {},
   "outputs": [],
   "source": [
    "parametros_dist = {\n",
    "    \"hidden_size\": randint(10, 300),\n",
    "    \"learning_rate\": rv_discrete(\n",
    "        name=\"learning_rate\",\n",
    "        values=([10**e for e in [-5, -4, -3, -2]], [1 / 4] * 4),\n",
    "    ),\n",
    "    \"momentum\": uniform(0.5,0.5),\n",
    "    \"batch_size\": rv_discrete(name=\"batch_size\", values=([16, 32, 64, 128], [1 / 4] * 4)),\n",
    "    \"lambda_l2\": rv_discrete(\n",
    "        name=\"lambda_l2\", values=([10**e for e in [-5, -3, -1, 0]], [1 / 4] * 4)\n",
    "    ),\n",
    "}"
   ]
  },
  {
   "cell_type": "code",
   "execution_count": 20,
   "id": "e2bdd910",
   "metadata": {},
   "outputs": [],
   "source": [
    "parametros = {\n",
    "    \"mode\": \"Regression\",\n",
    "    \"epochs\": 2000,\n",
    "    \"eval\": False,\n",
    "    \"seed\": 2,\n",
    "}"
   ]
  },
  {
   "cell_type": "code",
   "execution_count": 21,
   "id": "55f26a1f",
   "metadata": {},
   "outputs": [],
   "source": [
    "random_search = RandomSearchMLP(\n",
    "    X_train_standard,\n",
    "    y_train_standard,\n",
    "    X_validation_standard,\n",
    "    y_validation_standard,\n",
    "    MLP,\n",
    "    parameters_distributions=parametros_dist,\n",
    "    parameters_other=parametros,\n",
    "    repeats=100\n",
    ")"
   ]
  },
  {
   "cell_type": "code",
   "execution_count": 22,
   "id": "e63c3d06",
   "metadata": {},
   "outputs": [],
   "source": [
    "random_search.search()"
   ]
  },
  {
   "cell_type": "code",
   "execution_count": 24,
   "id": "1b488653",
   "metadata": {},
   "outputs": [],
   "source": [
    "best_parametros = random_search.best_params"
   ]
  },
  {
   "cell_type": "code",
   "execution_count": 25,
   "id": "53ce6f67",
   "metadata": {},
   "outputs": [
    {
     "data": {
      "text/plain": [
       "{'hidden_size': 143,\n",
       " 'learning_rate': 0.001,\n",
       " 'momentum': 0.8642535957978628,\n",
       " 'batch_size': 64,\n",
       " 'lambda_l2': 0.1}"
      ]
     },
     "execution_count": 25,
     "metadata": {},
     "output_type": "execute_result"
    }
   ],
   "source": [
    "best_parametros[0]"
   ]
  },
  {
   "cell_type": "markdown",
   "id": "19e7ffdc",
   "metadata": {},
   "source": [
    "## b) Apresente as curvas da função custo nos conjuntos de treinamento e validação ao longo das épocas. Reporte também para os conjuntos de treino, validação e teste as métricas abaixo:\n",
    "\n",
    "- **RMSE (root mean squared error)**:\n",
    "\n",
    "  $$\n",
    "  \\text{RMSE} = \\sqrt{\\frac{1}{N} \\sum_{i=1}^{N} (y_i - \\hat{y}_i)^2}\n",
    "  $$\n",
    "\n",
    "- **MAE (mean absolute error)**:\n",
    "\n",
    "  $$\n",
    "  \\text{MAE} = \\frac{1}{N} \\sum_{i=1}^{N} |y_i - \\hat{y}_i|\n",
    "  $$\n",
    "\n",
    "- **MRE (mean relative error)**:\n",
    "\n",
    "  $$\n",
    "  \\text{MRE} = \\frac{1}{N} \\sum_{i=1}^{N} \\frac{y_i - \\hat{y}_i}{y_i}\n",
    "  $$"
   ]
  },
  {
   "cell_type": "code",
   "execution_count": 26,
   "id": "70ac455a",
   "metadata": {},
   "outputs": [
    {
     "data": {
      "image/png": "[encoded data removed]",
      "text/plain": [
       "<Figure size 1000x500 with 1 Axes>"
      ]
     },
     "metadata": {},
     "output_type": "display_data"
    }
   ],
   "source": [
    "ep, er, er_test = zip(*best_parametros[1])\n",
    "plt.figure(figsize=(10, 5))\n",
    "plt.plot(ep, er, label=\"Training set\")\n",
    "plt.plot(ep, er_test, label=\"Validation set\")\n",
    "plt.xlabel(\"Épocas\")\n",
    "plt.ylabel(\"MSE\")\n",
    "plt.title(\"Curvas função custo\")\n",
    "plt.legend()\n",
    "plt.grid(True)\n",
    "plt.tight_layout()\n",
    "plt.show()"
   ]
  },
  {
   "cell_type": "code",
   "execution_count": 27,
   "id": "6751d98e",
   "metadata": {},
   "outputs": [],
   "source": [
    "# Treinei novamente para pegar o melhor modelo com base no random search\n",
    "\n",
    "parametros = best_parametros[0] | parametros\n",
    "\n",
    "model = MLP(\n",
    "    X_train_standard,\n",
    "    y_train_standard,\n",
    "    X_validation_standard,\n",
    "    y_validation_standard,\n",
    "    **parametros,\n",
    ")\n",
    "\n",
    "model.train()"
   ]
  },
  {
   "cell_type": "code",
   "execution_count": 28,
   "id": "35568505",
   "metadata": {},
   "outputs": [],
   "source": [
    "y_hat_standard = model.predict(X_train_standard)\n",
    "y_hat = y_scaler.inverse(y_hat_standard)\n",
    "\n",
    "train_rmse = rmse(y_train, y_hat)\n",
    "train_mae = mae(y_train, y_hat)\n",
    "train_mre = mre(y_train, y_hat)"
   ]
  },
  {
   "cell_type": "code",
   "execution_count": 29,
   "id": "3f9d3c42",
   "metadata": {},
   "outputs": [],
   "source": [
    "y_hat_standard = model.predict(X_validation_standard)\n",
    "y_hat = y_scaler.inverse(y_hat_standard)\n",
    "\n",
    "validacao_rmse = rmse(y_validation, y_hat)\n",
    "validacao_mae = mae(y_validation, y_hat)\n",
    "validacao_mre = mre(y_validation, y_hat)"
   ]
  },
  {
   "cell_type": "code",
   "execution_count": 30,
   "id": "85045c8a",
   "metadata": {},
   "outputs": [],
   "source": [
    "y_hat_standard = model.predict(X_test_standard)\n",
    "y_hat = y_scaler.inverse(y_hat_standard)\n",
    "\n",
    "test_rmse = rmse(y_test, y_hat)\n",
    "test_mae = mae(y_test, y_hat)\n",
    "test_mre = mre(y_test, y_hat)"
   ]
  },
  {
   "cell_type": "code",
   "execution_count": 31,
   "id": "1dd727d6",
   "metadata": {},
   "outputs": [
    {
     "name": "stdout",
     "output_type": "stream",
     "text": [
      "Resultados do Treino:\n",
      "  RMSE: 5.24\n",
      "  MAE : 4.06\n",
      "  MRE : 13.97%\n",
      "Resultados da Validação:\n",
      "  RMSE: 5.90\n",
      "  MAE : 4.47\n",
      "  MRE : 15.16%\n",
      "Resultados do Teste:\n",
      "  RMSE: 6.21\n",
      "  MAE : 4.80\n",
      "  MRE : 17.73%\n"
     ]
    }
   ],
   "source": [
    "print(\"Resultados do Treino:\")\n",
    "print(f\"  RMSE: {train_rmse:.2f}\")\n",
    "print(f\"  MAE : {train_mae:.2f}\")\n",
    "print(f\"  MRE : {train_mre:.2%}\") \n",
    "\n",
    "print(\"Resultados da Validação:\")\n",
    "print(f\"  RMSE: {validacao_rmse:.2f}\")\n",
    "print(f\"  MAE : {validacao_mae:.2f}\")\n",
    "print(f\"  MRE : {validacao_mre:.2%}\") \n",
    "\n",
    "print(\"Resultados do Teste:\")\n",
    "print(f\"  RMSE: {test_rmse:.2f}\")\n",
    "print(f\"  MAE : {test_mae:.2f}\")\n",
    "print(f\"  MRE : {test_mre:.2%}\")"
   ]
  },
  {
   "cell_type": "markdown",
   "id": "ed8f543b",
   "metadata": {},
   "source": [
    "# Questão 2\n",
    "\n",
    "Considere o conjunto de dados disponível em `vowel.csv`, organizado em 11 colunas, sendo as 10 primeiras colunas os atributos e a última coluna a saída. Os 10 atributos referem-se à caracterização de amostras da fala de britânicos. A saída é o fonema de vogal correspondente, dentre as 11 possibilidades. Maiores detalhes sobre os dados podem ser conferidos em: [https://www.openml.org/d/307](https://www.openml.org/d/307).\n",
    "\n",
    "## a) Considere um modelo de classificação não linear baseado em redes neurais artificiais. Separe os dados aleatoriamente em treino, validação e teste (por exemplo, 60%, 20% e 20%). Nesse cenário, treine e avalie o modelo abaixo:\n",
    "\n",
    "– **MLP (multilayer perceptron)**: 1 camada oculta e treinamento em *minibatch* via gradiente descendente estocástico com termo de *momentum*. Utilize o conjunto de validação para ajustar os hiperparâmetros."
   ]
  },
  {
   "cell_type": "code",
   "execution_count": 32,
   "id": "a20d8551",
   "metadata": {},
   "outputs": [],
   "source": [
    "from sklearn.model_selection import train_test_split # eu não usei o que eu fiz, pois achei melhor usar um que tem stratify"
   ]
  },
  {
   "cell_type": "code",
   "execution_count": 33,
   "id": "8a72a57f",
   "metadata": {},
   "outputs": [],
   "source": [
    "vowel = np.loadtxt(\"vowel.csv\", delimiter=',')"
   ]
  },
  {
   "cell_type": "code",
   "execution_count": 34,
   "id": "4c04b71f",
   "metadata": {},
   "outputs": [
    {
     "data": {
      "text/plain": [
       "(990, 11)"
      ]
     },
     "execution_count": 34,
     "metadata": {},
     "output_type": "execute_result"
    }
   ],
   "source": [
    "vowel.shape"
   ]
  },
  {
   "cell_type": "code",
   "execution_count": 35,
   "id": "bc327e35",
   "metadata": {},
   "outputs": [],
   "source": [
    "X = vowel[:,0:10]"
   ]
  },
  {
   "cell_type": "code",
   "execution_count": 36,
   "id": "ed88c7b1",
   "metadata": {},
   "outputs": [],
   "source": [
    "y = vowel[:,10].astype(int)"
   ]
  },
  {
   "cell_type": "code",
   "execution_count": 37,
   "id": "62b6bde0",
   "metadata": {},
   "outputs": [],
   "source": [
    "X_train_validation, X_test, y_train_validation, y_test = train_test_split(\n",
    "    X, y, test_size=0.2, random_state=1, stratify=y\n",
    ")"
   ]
  },
  {
   "cell_type": "code",
   "execution_count": 38,
   "id": "6b93cfee",
   "metadata": {},
   "outputs": [],
   "source": [
    "X_train, X_validation, y_train, y_validation = train_test_split(\n",
    "    X_train_validation,\n",
    "    y_train_validation,\n",
    "    test_size=0.2,\n",
    "    random_state=1,\n",
    "    stratify=y_train_validation,\n",
    ")"
   ]
  },
  {
   "cell_type": "code",
   "execution_count": 39,
   "id": "024548ce",
   "metadata": {},
   "outputs": [],
   "source": [
    "x_scaler = StandardScaler()\n",
    "X_train_standard = x_scaler.fit_transform(X_train)"
   ]
  },
  {
   "cell_type": "code",
   "execution_count": 40,
   "id": "12e457a3",
   "metadata": {},
   "outputs": [],
   "source": [
    "X_validation_standard = x_scaler.transform(X_validation)"
   ]
  },
  {
   "cell_type": "code",
   "execution_count": 41,
   "id": "9e1ad174",
   "metadata": {},
   "outputs": [],
   "source": [
    "X_test_standard = x_scaler.transform(X_test)"
   ]
  },
  {
   "cell_type": "code",
   "execution_count": 42,
   "id": "ead4c032",
   "metadata": {},
   "outputs": [],
   "source": [
    "parametros_dist = {\n",
    "    \"hidden_size\": randint(10, 1400),\n",
    "    \"learning_rate\": rv_discrete(\n",
    "        name=\"learning_rate\",\n",
    "        values=([10**e for e in [-5, -4, -3, -2]], [1 / 4] * 4),\n",
    "    ),\n",
    "    \"momentum\": uniform(0.5,0.5),\n",
    "    \"batch_size\": rv_discrete(name=\"batch_size\", values=([16, 32, 64, 128], [1 / 4] * 4)),\n",
    "    \"lambda_l2\": rv_discrete(\n",
    "        name=\"lambda_l2\", values=([10**e for e in [-5, -3, -1, 0]], [1 / 4] * 4)\n",
    "    ),\n",
    "}"
   ]
  },
  {
   "cell_type": "code",
   "execution_count": 43,
   "id": "01a9856e",
   "metadata": {},
   "outputs": [],
   "source": [
    "parametros = {\n",
    "    \"mode\": \"Classification\",\n",
    "    \"epochs\": 1200,\n",
    "    \"eval\": False,\n",
    "    \"seed\": 2,\n",
    "}"
   ]
  },
  {
   "cell_type": "code",
   "execution_count": 44,
   "id": "8c0d8164",
   "metadata": {},
   "outputs": [],
   "source": [
    "random_search = RandomSearchMLP(\n",
    "    X_train_standard,\n",
    "    y_train,\n",
    "    X_validation_standard,\n",
    "    y_validation,\n",
    "    MLP,\n",
    "    parameters_distributions=parametros_dist,\n",
    "    parameters_other=parametros,\n",
    "    repeats=100\n",
    ")"
   ]
  },
  {
   "cell_type": "code",
   "execution_count": 45,
   "id": "ef775bd2",
   "metadata": {},
   "outputs": [],
   "source": [
    "random_search.search()"
   ]
  },
  {
   "cell_type": "code",
   "execution_count": 46,
   "id": "3c79094c",
   "metadata": {},
   "outputs": [],
   "source": [
    "best_parametros = random_search.best_params"
   ]
  },
  {
   "cell_type": "code",
   "execution_count": 47,
   "id": "443edb33",
   "metadata": {},
   "outputs": [
    {
     "data": {
      "text/plain": [
       "{'hidden_size': 1291,\n",
       " 'learning_rate': 0.001,\n",
       " 'momentum': 0.8645068711445596,\n",
       " 'batch_size': 64,\n",
       " 'lambda_l2': 0.1}"
      ]
     },
     "execution_count": 47,
     "metadata": {},
     "output_type": "execute_result"
    }
   ],
   "source": [
    "best_parametros[0]"
   ]
  },
  {
   "cell_type": "markdown",
   "id": "304b8652",
   "metadata": {},
   "source": [
    "## b) Apresente as curvas da função custo nos conjuntos de treinamento e validação ao longo das épocas. Reporte também a **acurácia** obtida para os conjuntos de treino, validação e teste. Por último, mostre a **matriz de confusão** obtida no conjunto de teste.\n"
   ]
  },
  {
   "cell_type": "code",
   "execution_count": 48,
   "id": "453dc59d",
   "metadata": {},
   "outputs": [
    {
     "data": {
      "image/png": "[encoded data removed]",
      "text/plain": [
       "<Figure size 1000x500 with 1 Axes>"
      ]
     },
     "metadata": {},
     "output_type": "display_data"
    }
   ],
   "source": [
    "ep, er, er_test = zip(*best_parametros[1])\n",
    "plt.figure(figsize=(10, 5))\n",
    "plt.plot(ep, er, label=\"Training set\")\n",
    "plt.plot(ep, er_test, label=\"Validation set\")\n",
    "plt.xlabel(\"Épocas\")\n",
    "plt.ylabel(\"Loss\")\n",
    "plt.title(\"Curvas função custo\")\n",
    "plt.legend()\n",
    "plt.grid(True)\n",
    "plt.tight_layout()\n",
    "plt.show()"
   ]
  },
  {
   "cell_type": "code",
   "execution_count": 49,
   "id": "bc0ed2d3",
   "metadata": {},
   "outputs": [],
   "source": [
    "# Treinei novamente com o melhor modelo\n",
    "\n",
    "parametros = best_parametros[0] | parametros\n",
    "\n",
    "model = MLP(\n",
    "    X_train_standard,\n",
    "    y_train,\n",
    "    X_validation_standard,\n",
    "    y_validation,\n",
    "    **parametros,\n",
    ")\n",
    "\n",
    "model.train()"
   ]
  },
  {
   "cell_type": "code",
   "execution_count": 50,
   "id": "4b3ead3a",
   "metadata": {},
   "outputs": [],
   "source": [
    "y_hat = model.predict(X_train_standard)\n",
    "\n",
    "train_acc = calc_acuracia_global(y_train, y_hat)"
   ]
  },
  {
   "cell_type": "code",
   "execution_count": 51,
   "id": "9075c5c6",
   "metadata": {},
   "outputs": [],
   "source": [
    "y_hat = model.predict(X_validation_standard)\n",
    "\n",
    "validation_acc = calc_acuracia_global(y_validation, y_hat)"
   ]
  },
  {
   "cell_type": "code",
   "execution_count": 52,
   "id": "9500733a",
   "metadata": {},
   "outputs": [],
   "source": [
    "y_hat = model.predict(X_test_standard)\n",
    "\n",
    "teste_acc = calc_acuracia_global(y_test, y_hat)\n",
    "teste_matrix = matriz_confusao(y_test, y_hat)"
   ]
  },
  {
   "cell_type": "code",
   "execution_count": 53,
   "id": "b4a388d4",
   "metadata": {},
   "outputs": [
    {
     "name": "stdout",
     "output_type": "stream",
     "text": [
      "Resultados do Treino\n",
      "Acurácia: 1.00\n",
      "\n",
      "Resultados da Validação\n",
      "Acurácia: 0.92\n",
      "\n",
      "Resultados do Teste\n",
      "Acurácia: 0.91\n",
      "Matriz de confusão:\n",
      "[[18  0  0  0  0  0  0  0  0  0  0]\n",
      " [ 0 18  0  0  0  0  0  0  0  0  0]\n",
      " [ 0  0 18  0  0  0  0  0  0  0  0]\n",
      " [ 0  1  0 17  0  0  0  0  0  0  0]\n",
      " [ 0  1  1  0 12  0  0  0  0  1  3]\n",
      " [ 1  0  0  0  0 17  0  0  0  0  0]\n",
      " [ 2  0  0  0  0  0 13  2  1  0  0]\n",
      " [ 0  0  0  0  1  0  1 16  0  0  0]\n",
      " [ 0  0  0  0  0  0  0  0 17  0  1]\n",
      " [ 0  0  0  1  0  0  0  0  0 17  0]\n",
      " [ 0  0  0  0  0  0  0  0  0  0 18]]\n",
      "\n"
     ]
    }
   ],
   "source": [
    "print(\"Resultados do Treino\")\n",
    "print(f\"Acurácia: {train_acc:.2f}\\n\") \n",
    "\n",
    "# Apesar de o modelo ter atingido 100% de acurácia no conjunto de treinamento, isso não parece indicar overfitting, \n",
    "# já que os desempenhos nos conjuntos de validação (92%) e teste (91%) também foram altos.\n",
    "\n",
    "print(\"Resultados da Validação\")\n",
    "print(f\"Acurácia: {validation_acc:.2f}\\n\")\n",
    "\n",
    "print(\"Resultados do Teste\")\n",
    "print(f\"Acurácia: {teste_acc:.2f}\")\n",
    "print(\"Matriz de confusão:\")\n",
    "print(f\"{teste_matrix}\\n\") "
   ]
  }
 ],
 "metadata": {
  "kernelspec": {
   "display_name": "datascience",
   "language": "python",
   "name": "python3"
  },
  "language_info": {
   "codemirror_mode": {
    "name": "ipython",
    "version": 3
   },
   "file_extension": ".py",
   "mimetype": "text/x-python",
   "name": "python",
   "nbconvert_exporter": "python",
   "pygments_lexer": "ipython3",
   "version": "3.12.9"
  }
 },
 "nbformat": 4,
 "nbformat_minor": 5
}
